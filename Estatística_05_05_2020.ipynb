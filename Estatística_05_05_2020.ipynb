{
  "nbformat": 4,
  "nbformat_minor": 0,
  "metadata": {
    "colab": {
      "name": "Estatística-05/05/2020.ipynb",
      "provenance": [],
      "collapsed_sections": [],
      "include_colab_link": true
    },
    "kernelspec": {
      "name": "python3",
      "display_name": "Python 3"
    }
  },
  "cells": [
    {
      "cell_type": "markdown",
      "metadata": {
        "id": "view-in-github",
        "colab_type": "text"
      },
      "source": [
        "<a href=\"https://colab.research.google.com/github/Chikuji/fatec-estatistica/blob/master/Estat%C3%ADstica_05_05_2020.ipynb\" target=\"_parent\"><img src=\"https://colab.research.google.com/assets/colab-badge.svg\" alt=\"Open In Colab\"/></a>"
      ]
    },
    {
      "cell_type": "markdown",
      "metadata": {
        "id": "ssunl7MXVE-U",
        "colab_type": "text"
      },
      "source": [
        "# Lista de Exercícios"
      ]
    },
    {
      "cell_type": "markdown",
      "metadata": {
        "id": "t4xAcyODSHLs",
        "colab_type": "text"
      },
      "source": [
        "## **01**  Um experimento consiste em observar a soma dosnúmeros de 2 dados quando eles são jogados. Pede-se:\n",
        "\n",
        "a) Descreva o espaço amostral. \n",
        "\n",
        "b) Assumido todos os resultados equiprováveis, encontre a probabilidade da soma ser 7 e a probabilidade da soma ser maior que 10. "
      ]
    },
    {
      "cell_type": "code",
      "metadata": {
        "id": "Jumvl7dRXoye",
        "colab_type": "code",
        "colab": {}
      },
      "source": [
        "# Importar a biblioteca Numpy e declarar os dois dados\n",
        "\n",
        "import numpy as np\n",
        "\n",
        "dado1 = np.array([1,2,3,4,5,6])\n",
        "dado2 = np.array([1,2,3,4,5,6])"
      ],
      "execution_count": 0,
      "outputs": []
    },
    {
      "cell_type": "code",
      "metadata": {
        "id": "Rte7fV0wMwc5",
        "colab_type": "code",
        "outputId": "8404ae47-8af0-4797-ae9c-a45796fcfb26",
        "colab": {
          "base_uri": "https://localhost:8080/",
          "height": 33
        }
      },
      "source": [
        "# Descobrir o espaço amostral multiplicando cada quantidade de cada dado\n",
        "\n",
        "EspacoAmostral = len(dado1) * len(dado2)  \n",
        "EspacoAmostral"
      ],
      "execution_count": 0,
      "outputs": [
        {
          "output_type": "execute_result",
          "data": {
            "text/plain": [
              "36"
            ]
          },
          "metadata": {
            "tags": []
          },
          "execution_count": 170
        }
      ]
    },
    {
      "cell_type": "code",
      "metadata": {
        "id": "giyCTwfphpOX",
        "colab_type": "code",
        "outputId": "454e7157-0fe4-492b-cdcf-22c499a889e6",
        "colab": {
          "base_uri": "https://localhost:8080/",
          "height": 602
        }
      },
      "source": [
        "# Representando a combinação do EspacoAmostral\n",
        "\n",
        "for x in range(6):\n",
        "  for y in range(6):\n",
        "    print(dado1[x],dado2[y])"
      ],
      "execution_count": 0,
      "outputs": [
        {
          "output_type": "stream",
          "text": [
            "1 1\n",
            "1 2\n",
            "1 3\n",
            "1 4\n",
            "1 5\n",
            "1 6\n",
            "2 1\n",
            "2 2\n",
            "2 3\n",
            "2 4\n",
            "2 5\n",
            "2 6\n",
            "3 1\n",
            "3 2\n",
            "3 3\n",
            "3 4\n",
            "3 5\n",
            "3 6\n",
            "4 1\n",
            "4 2\n",
            "4 3\n",
            "4 4\n",
            "4 5\n",
            "4 6\n",
            "5 1\n",
            "5 2\n",
            "5 3\n",
            "5 4\n",
            "5 5\n",
            "5 6\n",
            "6 1\n",
            "6 2\n",
            "6 3\n",
            "6 4\n",
            "6 5\n",
            "6 6\n"
          ],
          "name": "stdout"
        }
      ]
    },
    {
      "cell_type": "code",
      "metadata": {
        "id": "aCwegRdyNej0",
        "colab_type": "code",
        "outputId": "d9f4d9f4-f27d-4f96-a4e7-f948df27b8ac",
        "colab": {
          "base_uri": "https://localhost:8080/",
          "height": 33
        }
      },
      "source": [
        "# Qual a probabilidade da soma ser 7 em porcentagem\n",
        "\n",
        "igual7 = 0\n",
        "for x in range(6):\n",
        "  for y in range(6):\n",
        "    if dado1[x]+dado2[y] == 7:\n",
        "      igual7 +=1\n",
        "probIgual7 = igual7/EspacoAmostral*100\n",
        "print(round(probIgual7,2),\"%\")"
      ],
      "execution_count": 0,
      "outputs": [
        {
          "output_type": "stream",
          "text": [
            "16.67 %\n"
          ],
          "name": "stdout"
        }
      ]
    },
    {
      "cell_type": "code",
      "metadata": {
        "id": "1LnkQvlI57DA",
        "colab_type": "code",
        "outputId": "dbd70ae5-de0d-482e-e285-44b16d5140a0",
        "colab": {
          "base_uri": "https://localhost:8080/",
          "height": 33
        }
      },
      "source": [
        "resposta = 1/6*100\n",
        "print(round(resposta,2),\"%\")"
      ],
      "execution_count": 0,
      "outputs": [
        {
          "output_type": "stream",
          "text": [
            "16.67 %\n"
          ],
          "name": "stdout"
        }
      ]
    },
    {
      "cell_type": "code",
      "metadata": {
        "id": "zKwkICzLPt-N",
        "colab_type": "code",
        "outputId": "4af30274-a31e-4b14-a3ba-fd9c224b9524",
        "colab": {
          "base_uri": "https://localhost:8080/",
          "height": 33
        }
      },
      "source": [
        "# Qual a probabilidade da soma ser maior que 10 em porcentagem\n",
        "\n",
        "maior10 = 0\n",
        "for x in range(6):\n",
        "  for y in range(6):\n",
        "    if dado1[x]+dado2[y] > 10:\n",
        "      maior10 +=1\n",
        "probmaior10 = maior10/EspacoAmostral*100\n",
        "print(round(probmaior10,2),\"%\")"
      ],
      "execution_count": 0,
      "outputs": [
        {
          "output_type": "stream",
          "text": [
            "8.33 %\n"
          ],
          "name": "stdout"
        }
      ]
    },
    {
      "cell_type": "code",
      "metadata": {
        "id": "2aQE6vrY6KF3",
        "colab_type": "code",
        "outputId": "0c29a80d-3642-450a-9c77-a1845d51f34f",
        "colab": {
          "base_uri": "https://localhost:8080/",
          "height": 33
        }
      },
      "source": [
        "resposta = 1/12*100\n",
        "print(round(resposta,2),\"%\")"
      ],
      "execution_count": 0,
      "outputs": [
        {
          "output_type": "stream",
          "text": [
            "8.33 %\n"
          ],
          "name": "stdout"
        }
      ]
    },
    {
      "cell_type": "markdown",
      "metadata": {
        "id": "lCgI9-5ZSOkC",
        "colab_type": "text"
      },
      "source": [
        "## **02**  Um   experimento   consiste   em   observar   6   pulsos consecutivos em um enlace de comunicações. Pulso pode ser   positivo,   negativo   ou   ausente.   Experimentos individuais   que   determinam   o   tipo   de   pulso   são independentes. Sabe-se que i-ésimo pulso: positivo:{xi = +1} negativo: {xi = -1} ausente: {xi = 0}.\n",
        "Assuma que P(xi = +1) = 0,4 e P(xi = -1) = 0,3. \n",
        "\n",
        "a) Encontre a probabilidade de todos os pulsos serempositivos. \n",
        "\n",
        "b)   Encontre   a   probabilidade   dos   3   primeiros   serempositivos,   os   2   seguintes   serem   negativos   e   o   últimoausente.  "
      ]
    },
    {
      "cell_type": "markdown",
      "metadata": {
        "id": "6qKTkAr2SSru",
        "colab_type": "text"
      },
      "source": [
        "## **03**  Um   submarino   atira   3   torpedos   contra   um   porta-aviões. O porta-aviões só será afundado se 2 ou maistorpedos o atingirem. Sabendo que a probabilidade de umtorpedo   acertar   o   porta-aviões   é   de   0,4,   qual   é   aprobabilidade de afundar o porta-aviões.  "
      ]
    },
    {
      "cell_type": "code",
      "metadata": {
        "id": "TV8hH2QwTbhF",
        "colab_type": "code",
        "outputId": "2ce5079d-7cc8-46b4-a4be-6288b5d18e7d",
        "colab": {
          "base_uri": "https://localhost:8080/",
          "height": 33
        }
      },
      "source": [
        "from math import factorial\n",
        "\n",
        "N = 3 \n",
        "K2 = 2\n",
        "K3 = 3\n",
        "p = 0.4\n",
        "q = (1-p)\n",
        "\n",
        "prob2 = (factorial(N) / (factorial(K2)*factorial(N-K2))) *(p**K2)*(q**(N-K2))\n",
        "prob3 = (factorial(N) / (factorial(K3)*factorial(N-K3))) *(p**K3)*(q**(N-K3))\n",
        "\n",
        "tot=prob2+prob3\n",
        "\n",
        "print(round(tot*100,2),\"%\")"
      ],
      "execution_count": 0,
      "outputs": [
        {
          "output_type": "stream",
          "text": [
            "35.2 %\n"
          ],
          "name": "stdout"
        }
      ]
    },
    {
      "cell_type": "markdown",
      "metadata": {
        "id": "5TVD3_OYSqHA",
        "colab_type": "text"
      },
      "source": [
        "## **04** No lançamento de dois dados, qual é o número total depossibilidades de resultados e qual é a probabilidade deobtermos soma igual a 8? "
      ]
    },
    {
      "cell_type": "code",
      "metadata": {
        "id": "nMtTi6fqX6SN",
        "colab_type": "code",
        "outputId": "229ee560-bd1c-428a-c3d6-0cf361993703",
        "colab": {
          "base_uri": "https://localhost:8080/",
          "height": 33
        }
      },
      "source": [
        "# Espaço amostral é igual do exercício 1\n",
        "EspacoAmostral"
      ],
      "execution_count": 0,
      "outputs": [
        {
          "output_type": "execute_result",
          "data": {
            "text/plain": [
              "36"
            ]
          },
          "metadata": {
            "tags": []
          },
          "execution_count": 58
        }
      ]
    },
    {
      "cell_type": "code",
      "metadata": {
        "id": "khzQLSj2X7PT",
        "colab_type": "code",
        "outputId": "a09cc932-4e5e-4339-9ba1-a46649773a12",
        "colab": {
          "base_uri": "https://localhost:8080/",
          "height": 33
        }
      },
      "source": [
        "# Qual a probabilidade da soma ser igual a 8 em porcentagem\n",
        "\n",
        "igual8 = 0\n",
        "for x in range(6):\n",
        "  for y in range(6):\n",
        "    if dado1[x]+dado2[y] == 8:\n",
        "      igual8 +=1\n",
        "probIgual8 = igual8/EspacoAmostral*100\n",
        "print(round(probIgual8,0),\"%\")"
      ],
      "execution_count": 0,
      "outputs": [
        {
          "output_type": "stream",
          "text": [
            "14.0 %\n"
          ],
          "name": "stdout"
        }
      ]
    },
    {
      "cell_type": "markdown",
      "metadata": {
        "id": "X4N69EiASsBy",
        "colab_type": "text"
      },
      "source": [
        "## **05**  Qual   é   a   probabilidade   de,   no   lançamento   de   4moedas, obtermos cara em todos os resultados? "
      ]
    },
    {
      "cell_type": "code",
      "metadata": {
        "id": "17txUYtSYngv",
        "colab_type": "code",
        "outputId": "15a87718-7128-4f41-df9a-1da24b936488",
        "colab": {
          "base_uri": "https://localhost:8080/",
          "height": 33
        }
      },
      "source": [
        "Amostra4Moedas = 2*2*2*2 # cada moeda tem duas opções de dar\n",
        "Amostra4Moedas"
      ],
      "execution_count": 0,
      "outputs": [
        {
          "output_type": "execute_result",
          "data": {
            "text/plain": [
              "16"
            ]
          },
          "metadata": {
            "tags": []
          },
          "execution_count": 60
        }
      ]
    },
    {
      "cell_type": "code",
      "metadata": {
        "id": "a4xLlqzEZ8Me",
        "colab_type": "code",
        "outputId": "f69e5ff4-a33d-4028-88fb-6e5965e484a0",
        "colab": {
          "base_uri": "https://localhost:8080/",
          "height": 277
        }
      },
      "source": [
        "# 0 = CARA , 1 = COROA\n",
        "\n",
        "moeda1 = np.array([0,1])\n",
        "moeda2 = np.array([0,1])\n",
        "moeda3 = np.array([0,1])\n",
        "moeda4 = np.array([0,1])\n",
        "\n",
        "for x in range(2):\n",
        "  for y in range(2):\n",
        "    for z in range(2):\n",
        "      for w in range(2):\n",
        "        print(moeda1[x],moeda2[y],moeda3[z],moeda4[w])"
      ],
      "execution_count": 0,
      "outputs": [
        {
          "output_type": "stream",
          "text": [
            "0 0 0 0\n",
            "0 0 0 1\n",
            "0 0 1 0\n",
            "0 0 1 1\n",
            "0 1 0 0\n",
            "0 1 0 1\n",
            "0 1 1 0\n",
            "0 1 1 1\n",
            "1 0 0 0\n",
            "1 0 0 1\n",
            "1 0 1 0\n",
            "1 0 1 1\n",
            "1 1 0 0\n",
            "1 1 0 1\n",
            "1 1 1 0\n",
            "1 1 1 1\n"
          ],
          "name": "stdout"
        }
      ]
    },
    {
      "cell_type": "code",
      "metadata": {
        "id": "ZHiecSUwcCXq",
        "colab_type": "code",
        "outputId": "bb546a83-b3aa-4801-d42f-d72f25a259cb",
        "colab": {
          "base_uri": "https://localhost:8080/",
          "height": 33
        }
      },
      "source": [
        "MoedasIguais = 1/Amostra4Moedas*100\n",
        "print(round(MoedasIguais,1),\"%\")"
      ],
      "execution_count": 0,
      "outputs": [
        {
          "output_type": "stream",
          "text": [
            "6.2 %\n"
          ],
          "name": "stdout"
        }
      ]
    },
    {
      "cell_type": "markdown",
      "metadata": {
        "id": "sXMPn1HASwWr",
        "colab_type": "text"
      },
      "source": [
        "## **06** Duas moedas e dois dados, todos diferentes entre si,foram lançados simultaneamente. Qual é o número depossibilidades de resultados para esse experimento? "
      ]
    },
    {
      "cell_type": "code",
      "metadata": {
        "id": "EyiI1eveeQfP",
        "colab_type": "code",
        "outputId": "66e9dc26-f735-4c48-ff9e-fcf115f2a9da",
        "colab": {
          "base_uri": "https://localhost:8080/",
          "height": 33
        }
      },
      "source": [
        "nPossibilidades = 2*2*6*6\n",
        "print(nPossibilidades,\"combinações diferentes\")"
      ],
      "execution_count": 0,
      "outputs": [
        {
          "output_type": "stream",
          "text": [
            "144 combinações diferentes\n"
          ],
          "name": "stdout"
        }
      ]
    },
    {
      "cell_type": "markdown",
      "metadata": {
        "id": "BUg-7QSASyWE",
        "colab_type": "text"
      },
      "source": [
        "## **07** Qual é o número total de possibilidades de resultadono lançamento de 5 moedas? "
      ]
    },
    {
      "cell_type": "code",
      "metadata": {
        "id": "QRPQ0Ol0evpN",
        "colab_type": "code",
        "outputId": "fe6b91c0-18d6-43b7-a895-a79555ee8f76",
        "colab": {
          "base_uri": "https://localhost:8080/",
          "height": 33
        }
      },
      "source": [
        "Poss5Moedas = 2*2*2*2*2\n",
        "print(Poss5Moedas,\"combinações diferentes\")"
      ],
      "execution_count": 0,
      "outputs": [
        {
          "output_type": "stream",
          "text": [
            "32 combinações diferentes\n"
          ],
          "name": "stdout"
        }
      ]
    },
    {
      "cell_type": "markdown",
      "metadata": {
        "id": "IA-m0cvnS0mG",
        "colab_type": "text"
      },
      "source": [
        "## **08** No   lançamento   de   dois   dados   perfeitos,   qual   aprobabilidade de que a soma dos resultados obtidos sejaigual a 6? "
      ]
    },
    {
      "cell_type": "code",
      "metadata": {
        "id": "bcqcPOa8fTvz",
        "colab_type": "code",
        "outputId": "d8c6d736-722c-4676-e8a6-e3ccc77b3c96",
        "colab": {
          "base_uri": "https://localhost:8080/",
          "height": 131
        }
      },
      "source": [
        "igual6 = 0\n",
        "for x in range(6):\n",
        "  for y in range(6):\n",
        "    if dado1[x]+dado2[y] == 6:\n",
        "      igual6 +=1\n",
        "      print(dado1[x],dado2[y])\n",
        "print(\"Somas iguais a 6 =\",igual6)\n",
        "probIgual6 = igual6/EspacoAmostral*100\n",
        "print(round(probIgual6,2),\"%\")"
      ],
      "execution_count": 0,
      "outputs": [
        {
          "output_type": "stream",
          "text": [
            "1 5\n",
            "2 4\n",
            "3 3\n",
            "4 2\n",
            "5 1\n",
            "Somas iguais a 6 = 5\n",
            "13.89 %\n"
          ],
          "name": "stdout"
        }
      ]
    },
    {
      "cell_type": "markdown",
      "metadata": {
        "id": "CoygM2FhS2Vm",
        "colab_type": "text"
      },
      "source": [
        "## **09** Considerando todos os divisores positivos do numeral 60, determine a probabilidade de escolhermos ao acaso,um número primo. "
      ]
    },
    {
      "cell_type": "code",
      "metadata": {
        "id": "4HKSU2lswq65",
        "colab_type": "code",
        "outputId": "797460fd-01ab-40a1-ba1d-c30f3e0fc707",
        "colab": {
          "base_uri": "https://localhost:8080/",
          "height": 1000
        }
      },
      "source": [
        "# AINDA EM TESTE HAHAHA\n",
        "nprimo=0\n",
        "for n in range(61):\n",
        "  tot=0\n",
        "  for x in range(1, n+1):\n",
        "    if n%x==0:\n",
        "      print('\\033[31m', end='')\n",
        "      tot += 1\n",
        "    else:\n",
        "      print('\\033[32m', end='')\n",
        "    print('{}'.format(x), end='')\n",
        "  print('\\n\\033[30m O numero {} foi difisivel {} vezes'.format(n,tot))\n",
        "  if tot == 2:\n",
        "    nprimo +=1\n",
        "    print('Esse numero e primo')\n",
        "  else:\n",
        "    print('Esse numero nao e primo')"
      ],
      "execution_count": 0,
      "outputs": [
        {
          "output_type": "stream",
          "text": [
            "\n",
            "\u001b[30m O numero 0 foi difisivel 0 vezes\n",
            "Esse numero nao e primo\n",
            "\u001b[31m1\n",
            "\u001b[30m O numero 1 foi difisivel 1 vezes\n",
            "Esse numero nao e primo\n",
            "\u001b[31m1\u001b[31m2\n",
            "\u001b[30m O numero 2 foi difisivel 2 vezes\n",
            "Esse numero e primo\n",
            "\u001b[31m1\u001b[32m2\u001b[31m3\n",
            "\u001b[30m O numero 3 foi difisivel 2 vezes\n",
            "Esse numero e primo\n",
            "\u001b[31m1\u001b[31m2\u001b[32m3\u001b[31m4\n",
            "\u001b[30m O numero 4 foi difisivel 3 vezes\n",
            "Esse numero nao e primo\n",
            "\u001b[31m1\u001b[32m2\u001b[32m3\u001b[32m4\u001b[31m5\n",
            "\u001b[30m O numero 5 foi difisivel 2 vezes\n",
            "Esse numero e primo\n",
            "\u001b[31m1\u001b[31m2\u001b[31m3\u001b[32m4\u001b[32m5\u001b[31m6\n",
            "\u001b[30m O numero 6 foi difisivel 4 vezes\n",
            "Esse numero nao e primo\n",
            "\u001b[31m1\u001b[32m2\u001b[32m3\u001b[32m4\u001b[32m5\u001b[32m6\u001b[31m7\n",
            "\u001b[30m O numero 7 foi difisivel 2 vezes\n",
            "Esse numero e primo\n",
            "\u001b[31m1\u001b[31m2\u001b[32m3\u001b[31m4\u001b[32m5\u001b[32m6\u001b[32m7\u001b[31m8\n",
            "\u001b[30m O numero 8 foi difisivel 4 vezes\n",
            "Esse numero nao e primo\n",
            "\u001b[31m1\u001b[32m2\u001b[31m3\u001b[32m4\u001b[32m5\u001b[32m6\u001b[32m7\u001b[32m8\u001b[31m9\n",
            "\u001b[30m O numero 9 foi difisivel 3 vezes\n",
            "Esse numero nao e primo\n",
            "\u001b[31m1\u001b[31m2\u001b[32m3\u001b[32m4\u001b[31m5\u001b[32m6\u001b[32m7\u001b[32m8\u001b[32m9\u001b[31m10\n",
            "\u001b[30m O numero 10 foi difisivel 4 vezes\n",
            "Esse numero nao e primo\n",
            "\u001b[31m1\u001b[32m2\u001b[32m3\u001b[32m4\u001b[32m5\u001b[32m6\u001b[32m7\u001b[32m8\u001b[32m9\u001b[32m10\u001b[31m11\n",
            "\u001b[30m O numero 11 foi difisivel 2 vezes\n",
            "Esse numero e primo\n",
            "\u001b[31m1\u001b[31m2\u001b[31m3\u001b[31m4\u001b[32m5\u001b[31m6\u001b[32m7\u001b[32m8\u001b[32m9\u001b[32m10\u001b[32m11\u001b[31m12\n",
            "\u001b[30m O numero 12 foi difisivel 6 vezes\n",
            "Esse numero nao e primo\n",
            "\u001b[31m1\u001b[32m2\u001b[32m3\u001b[32m4\u001b[32m5\u001b[32m6\u001b[32m7\u001b[32m8\u001b[32m9\u001b[32m10\u001b[32m11\u001b[32m12\u001b[31m13\n",
            "\u001b[30m O numero 13 foi difisivel 2 vezes\n",
            "Esse numero e primo\n",
            "\u001b[31m1\u001b[31m2\u001b[32m3\u001b[32m4\u001b[32m5\u001b[32m6\u001b[31m7\u001b[32m8\u001b[32m9\u001b[32m10\u001b[32m11\u001b[32m12\u001b[32m13\u001b[31m14\n",
            "\u001b[30m O numero 14 foi difisivel 4 vezes\n",
            "Esse numero nao e primo\n",
            "\u001b[31m1\u001b[32m2\u001b[31m3\u001b[32m4\u001b[31m5\u001b[32m6\u001b[32m7\u001b[32m8\u001b[32m9\u001b[32m10\u001b[32m11\u001b[32m12\u001b[32m13\u001b[32m14\u001b[31m15\n",
            "\u001b[30m O numero 15 foi difisivel 4 vezes\n",
            "Esse numero nao e primo\n",
            "\u001b[31m1\u001b[31m2\u001b[32m3\u001b[31m4\u001b[32m5\u001b[32m6\u001b[32m7\u001b[31m8\u001b[32m9\u001b[32m10\u001b[32m11\u001b[32m12\u001b[32m13\u001b[32m14\u001b[32m15\u001b[31m16\n",
            "\u001b[30m O numero 16 foi difisivel 5 vezes\n",
            "Esse numero nao e primo\n",
            "\u001b[31m1\u001b[32m2\u001b[32m3\u001b[32m4\u001b[32m5\u001b[32m6\u001b[32m7\u001b[32m8\u001b[32m9\u001b[32m10\u001b[32m11\u001b[32m12\u001b[32m13\u001b[32m14\u001b[32m15\u001b[32m16\u001b[31m17\n",
            "\u001b[30m O numero 17 foi difisivel 2 vezes\n",
            "Esse numero e primo\n",
            "\u001b[31m1\u001b[31m2\u001b[31m3\u001b[32m4\u001b[32m5\u001b[31m6\u001b[32m7\u001b[32m8\u001b[31m9\u001b[32m10\u001b[32m11\u001b[32m12\u001b[32m13\u001b[32m14\u001b[32m15\u001b[32m16\u001b[32m17\u001b[31m18\n",
            "\u001b[30m O numero 18 foi difisivel 6 vezes\n",
            "Esse numero nao e primo\n",
            "\u001b[31m1\u001b[32m2\u001b[32m3\u001b[32m4\u001b[32m5\u001b[32m6\u001b[32m7\u001b[32m8\u001b[32m9\u001b[32m10\u001b[32m11\u001b[32m12\u001b[32m13\u001b[32m14\u001b[32m15\u001b[32m16\u001b[32m17\u001b[32m18\u001b[31m19\n",
            "\u001b[30m O numero 19 foi difisivel 2 vezes\n",
            "Esse numero e primo\n",
            "\u001b[31m1\u001b[31m2\u001b[32m3\u001b[31m4\u001b[31m5\u001b[32m6\u001b[32m7\u001b[32m8\u001b[32m9\u001b[31m10\u001b[32m11\u001b[32m12\u001b[32m13\u001b[32m14\u001b[32m15\u001b[32m16\u001b[32m17\u001b[32m18\u001b[32m19\u001b[31m20\n",
            "\u001b[30m O numero 20 foi difisivel 6 vezes\n",
            "Esse numero nao e primo\n",
            "\u001b[31m1\u001b[32m2\u001b[31m3\u001b[32m4\u001b[32m5\u001b[32m6\u001b[31m7\u001b[32m8\u001b[32m9\u001b[32m10\u001b[32m11\u001b[32m12\u001b[32m13\u001b[32m14\u001b[32m15\u001b[32m16\u001b[32m17\u001b[32m18\u001b[32m19\u001b[32m20\u001b[31m21\n",
            "\u001b[30m O numero 21 foi difisivel 4 vezes\n",
            "Esse numero nao e primo\n",
            "\u001b[31m1\u001b[31m2\u001b[32m3\u001b[32m4\u001b[32m5\u001b[32m6\u001b[32m7\u001b[32m8\u001b[32m9\u001b[32m10\u001b[31m11\u001b[32m12\u001b[32m13\u001b[32m14\u001b[32m15\u001b[32m16\u001b[32m17\u001b[32m18\u001b[32m19\u001b[32m20\u001b[32m21\u001b[31m22\n",
            "\u001b[30m O numero 22 foi difisivel 4 vezes\n",
            "Esse numero nao e primo\n",
            "\u001b[31m1\u001b[32m2\u001b[32m3\u001b[32m4\u001b[32m5\u001b[32m6\u001b[32m7\u001b[32m8\u001b[32m9\u001b[32m10\u001b[32m11\u001b[32m12\u001b[32m13\u001b[32m14\u001b[32m15\u001b[32m16\u001b[32m17\u001b[32m18\u001b[32m19\u001b[32m20\u001b[32m21\u001b[32m22\u001b[31m23\n",
            "\u001b[30m O numero 23 foi difisivel 2 vezes\n",
            "Esse numero e primo\n",
            "\u001b[31m1\u001b[31m2\u001b[31m3\u001b[31m4\u001b[32m5\u001b[31m6\u001b[32m7\u001b[31m8\u001b[32m9\u001b[32m10\u001b[32m11\u001b[31m12\u001b[32m13\u001b[32m14\u001b[32m15\u001b[32m16\u001b[32m17\u001b[32m18\u001b[32m19\u001b[32m20\u001b[32m21\u001b[32m22\u001b[32m23\u001b[31m24\n",
            "\u001b[30m O numero 24 foi difisivel 8 vezes\n",
            "Esse numero nao e primo\n",
            "\u001b[31m1\u001b[32m2\u001b[32m3\u001b[32m4\u001b[31m5\u001b[32m6\u001b[32m7\u001b[32m8\u001b[32m9\u001b[32m10\u001b[32m11\u001b[32m12\u001b[32m13\u001b[32m14\u001b[32m15\u001b[32m16\u001b[32m17\u001b[32m18\u001b[32m19\u001b[32m20\u001b[32m21\u001b[32m22\u001b[32m23\u001b[32m24\u001b[31m25\n",
            "\u001b[30m O numero 25 foi difisivel 3 vezes\n",
            "Esse numero nao e primo\n",
            "\u001b[31m1\u001b[31m2\u001b[32m3\u001b[32m4\u001b[32m5\u001b[32m6\u001b[32m7\u001b[32m8\u001b[32m9\u001b[32m10\u001b[32m11\u001b[32m12\u001b[31m13\u001b[32m14\u001b[32m15\u001b[32m16\u001b[32m17\u001b[32m18\u001b[32m19\u001b[32m20\u001b[32m21\u001b[32m22\u001b[32m23\u001b[32m24\u001b[32m25\u001b[31m26\n",
            "\u001b[30m O numero 26 foi difisivel 4 vezes\n",
            "Esse numero nao e primo\n",
            "\u001b[31m1\u001b[32m2\u001b[31m3\u001b[32m4\u001b[32m5\u001b[32m6\u001b[32m7\u001b[32m8\u001b[31m9\u001b[32m10\u001b[32m11\u001b[32m12\u001b[32m13\u001b[32m14\u001b[32m15\u001b[32m16\u001b[32m17\u001b[32m18\u001b[32m19\u001b[32m20\u001b[32m21\u001b[32m22\u001b[32m23\u001b[32m24\u001b[32m25\u001b[32m26\u001b[31m27\n",
            "\u001b[30m O numero 27 foi difisivel 4 vezes\n",
            "Esse numero nao e primo\n",
            "\u001b[31m1\u001b[31m2\u001b[32m3\u001b[31m4\u001b[32m5\u001b[32m6\u001b[31m7\u001b[32m8\u001b[32m9\u001b[32m10\u001b[32m11\u001b[32m12\u001b[32m13\u001b[31m14\u001b[32m15\u001b[32m16\u001b[32m17\u001b[32m18\u001b[32m19\u001b[32m20\u001b[32m21\u001b[32m22\u001b[32m23\u001b[32m24\u001b[32m25\u001b[32m26\u001b[32m27\u001b[31m28\n",
            "\u001b[30m O numero 28 foi difisivel 6 vezes\n",
            "Esse numero nao e primo\n",
            "\u001b[31m1\u001b[32m2\u001b[32m3\u001b[32m4\u001b[32m5\u001b[32m6\u001b[32m7\u001b[32m8\u001b[32m9\u001b[32m10\u001b[32m11\u001b[32m12\u001b[32m13\u001b[32m14\u001b[32m15\u001b[32m16\u001b[32m17\u001b[32m18\u001b[32m19\u001b[32m20\u001b[32m21\u001b[32m22\u001b[32m23\u001b[32m24\u001b[32m25\u001b[32m26\u001b[32m27\u001b[32m28\u001b[31m29\n",
            "\u001b[30m O numero 29 foi difisivel 2 vezes\n",
            "Esse numero e primo\n",
            "\u001b[31m1\u001b[31m2\u001b[31m3\u001b[32m4\u001b[31m5\u001b[31m6\u001b[32m7\u001b[32m8\u001b[32m9\u001b[31m10\u001b[32m11\u001b[32m12\u001b[32m13\u001b[32m14\u001b[31m15\u001b[32m16\u001b[32m17\u001b[32m18\u001b[32m19\u001b[32m20\u001b[32m21\u001b[32m22\u001b[32m23\u001b[32m24\u001b[32m25\u001b[32m26\u001b[32m27\u001b[32m28\u001b[32m29\u001b[31m30\n",
            "\u001b[30m O numero 30 foi difisivel 8 vezes\n",
            "Esse numero nao e primo\n",
            "\u001b[31m1\u001b[32m2\u001b[32m3\u001b[32m4\u001b[32m5\u001b[32m6\u001b[32m7\u001b[32m8\u001b[32m9\u001b[32m10\u001b[32m11\u001b[32m12\u001b[32m13\u001b[32m14\u001b[32m15\u001b[32m16\u001b[32m17\u001b[32m18\u001b[32m19\u001b[32m20\u001b[32m21\u001b[32m22\u001b[32m23\u001b[32m24\u001b[32m25\u001b[32m26\u001b[32m27\u001b[32m28\u001b[32m29\u001b[32m30\u001b[31m31\n",
            "\u001b[30m O numero 31 foi difisivel 2 vezes\n",
            "Esse numero e primo\n",
            "\u001b[31m1\u001b[31m2\u001b[32m3\u001b[31m4\u001b[32m5\u001b[32m6\u001b[32m7\u001b[31m8\u001b[32m9\u001b[32m10\u001b[32m11\u001b[32m12\u001b[32m13\u001b[32m14\u001b[32m15\u001b[31m16\u001b[32m17\u001b[32m18\u001b[32m19\u001b[32m20\u001b[32m21\u001b[32m22\u001b[32m23\u001b[32m24\u001b[32m25\u001b[32m26\u001b[32m27\u001b[32m28\u001b[32m29\u001b[32m30\u001b[32m31\u001b[31m32\n",
            "\u001b[30m O numero 32 foi difisivel 6 vezes\n",
            "Esse numero nao e primo\n",
            "\u001b[31m1\u001b[32m2\u001b[31m3\u001b[32m4\u001b[32m5\u001b[32m6\u001b[32m7\u001b[32m8\u001b[32m9\u001b[32m10\u001b[31m11\u001b[32m12\u001b[32m13\u001b[32m14\u001b[32m15\u001b[32m16\u001b[32m17\u001b[32m18\u001b[32m19\u001b[32m20\u001b[32m21\u001b[32m22\u001b[32m23\u001b[32m24\u001b[32m25\u001b[32m26\u001b[32m27\u001b[32m28\u001b[32m29\u001b[32m30\u001b[32m31\u001b[32m32\u001b[31m33\n",
            "\u001b[30m O numero 33 foi difisivel 4 vezes\n",
            "Esse numero nao e primo\n",
            "\u001b[31m1\u001b[31m2\u001b[32m3\u001b[32m4\u001b[32m5\u001b[32m6\u001b[32m7\u001b[32m8\u001b[32m9\u001b[32m10\u001b[32m11\u001b[32m12\u001b[32m13\u001b[32m14\u001b[32m15\u001b[32m16\u001b[31m17\u001b[32m18\u001b[32m19\u001b[32m20\u001b[32m21\u001b[32m22\u001b[32m23\u001b[32m24\u001b[32m25\u001b[32m26\u001b[32m27\u001b[32m28\u001b[32m29\u001b[32m30\u001b[32m31\u001b[32m32\u001b[32m33\u001b[31m34\n",
            "\u001b[30m O numero 34 foi difisivel 4 vezes\n",
            "Esse numero nao e primo\n",
            "\u001b[31m1\u001b[32m2\u001b[32m3\u001b[32m4\u001b[31m5\u001b[32m6\u001b[31m7\u001b[32m8\u001b[32m9\u001b[32m10\u001b[32m11\u001b[32m12\u001b[32m13\u001b[32m14\u001b[32m15\u001b[32m16\u001b[32m17\u001b[32m18\u001b[32m19\u001b[32m20\u001b[32m21\u001b[32m22\u001b[32m23\u001b[32m24\u001b[32m25\u001b[32m26\u001b[32m27\u001b[32m28\u001b[32m29\u001b[32m30\u001b[32m31\u001b[32m32\u001b[32m33\u001b[32m34\u001b[31m35\n",
            "\u001b[30m O numero 35 foi difisivel 4 vezes\n",
            "Esse numero nao e primo\n",
            "\u001b[31m1\u001b[31m2\u001b[31m3\u001b[31m4\u001b[32m5\u001b[31m6\u001b[32m7\u001b[32m8\u001b[31m9\u001b[32m10\u001b[32m11\u001b[31m12\u001b[32m13\u001b[32m14\u001b[32m15\u001b[32m16\u001b[32m17\u001b[31m18\u001b[32m19\u001b[32m20\u001b[32m21\u001b[32m22\u001b[32m23\u001b[32m24\u001b[32m25\u001b[32m26\u001b[32m27\u001b[32m28\u001b[32m29\u001b[32m30\u001b[32m31\u001b[32m32\u001b[32m33\u001b[32m34\u001b[32m35\u001b[31m36\n",
            "\u001b[30m O numero 36 foi difisivel 9 vezes\n",
            "Esse numero nao e primo\n",
            "\u001b[31m1\u001b[32m2\u001b[32m3\u001b[32m4\u001b[32m5\u001b[32m6\u001b[32m7\u001b[32m8\u001b[32m9\u001b[32m10\u001b[32m11\u001b[32m12\u001b[32m13\u001b[32m14\u001b[32m15\u001b[32m16\u001b[32m17\u001b[32m18\u001b[32m19\u001b[32m20\u001b[32m21\u001b[32m22\u001b[32m23\u001b[32m24\u001b[32m25\u001b[32m26\u001b[32m27\u001b[32m28\u001b[32m29\u001b[32m30\u001b[32m31\u001b[32m32\u001b[32m33\u001b[32m34\u001b[32m35\u001b[32m36\u001b[31m37\n",
            "\u001b[30m O numero 37 foi difisivel 2 vezes\n",
            "Esse numero e primo\n",
            "\u001b[31m1\u001b[31m2\u001b[32m3\u001b[32m4\u001b[32m5\u001b[32m6\u001b[32m7\u001b[32m8\u001b[32m9\u001b[32m10\u001b[32m11\u001b[32m12\u001b[32m13\u001b[32m14\u001b[32m15\u001b[32m16\u001b[32m17\u001b[32m18\u001b[31m19\u001b[32m20\u001b[32m21\u001b[32m22\u001b[32m23\u001b[32m24\u001b[32m25\u001b[32m26\u001b[32m27\u001b[32m28\u001b[32m29\u001b[32m30\u001b[32m31\u001b[32m32\u001b[32m33\u001b[32m34\u001b[32m35\u001b[32m36\u001b[32m37\u001b[31m38\n",
            "\u001b[30m O numero 38 foi difisivel 4 vezes\n",
            "Esse numero nao e primo\n",
            "\u001b[31m1\u001b[32m2\u001b[31m3\u001b[32m4\u001b[32m5\u001b[32m6\u001b[32m7\u001b[32m8\u001b[32m9\u001b[32m10\u001b[32m11\u001b[32m12\u001b[31m13\u001b[32m14\u001b[32m15\u001b[32m16\u001b[32m17\u001b[32m18\u001b[32m19\u001b[32m20\u001b[32m21\u001b[32m22\u001b[32m23\u001b[32m24\u001b[32m25\u001b[32m26\u001b[32m27\u001b[32m28\u001b[32m29\u001b[32m30\u001b[32m31\u001b[32m32\u001b[32m33\u001b[32m34\u001b[32m35\u001b[32m36\u001b[32m37\u001b[32m38\u001b[31m39\n",
            "\u001b[30m O numero 39 foi difisivel 4 vezes\n",
            "Esse numero nao e primo\n",
            "\u001b[31m1\u001b[31m2\u001b[32m3\u001b[31m4\u001b[31m5\u001b[32m6\u001b[32m7\u001b[31m8\u001b[32m9\u001b[31m10\u001b[32m11\u001b[32m12\u001b[32m13\u001b[32m14\u001b[32m15\u001b[32m16\u001b[32m17\u001b[32m18\u001b[32m19\u001b[31m20\u001b[32m21\u001b[32m22\u001b[32m23\u001b[32m24\u001b[32m25\u001b[32m26\u001b[32m27\u001b[32m28\u001b[32m29\u001b[32m30\u001b[32m31\u001b[32m32\u001b[32m33\u001b[32m34\u001b[32m35\u001b[32m36\u001b[32m37\u001b[32m38\u001b[32m39\u001b[31m40\n",
            "\u001b[30m O numero 40 foi difisivel 8 vezes\n",
            "Esse numero nao e primo\n",
            "\u001b[31m1\u001b[32m2\u001b[32m3\u001b[32m4\u001b[32m5\u001b[32m6\u001b[32m7\u001b[32m8\u001b[32m9\u001b[32m10\u001b[32m11\u001b[32m12\u001b[32m13\u001b[32m14\u001b[32m15\u001b[32m16\u001b[32m17\u001b[32m18\u001b[32m19\u001b[32m20\u001b[32m21\u001b[32m22\u001b[32m23\u001b[32m24\u001b[32m25\u001b[32m26\u001b[32m27\u001b[32m28\u001b[32m29\u001b[32m30\u001b[32m31\u001b[32m32\u001b[32m33\u001b[32m34\u001b[32m35\u001b[32m36\u001b[32m37\u001b[32m38\u001b[32m39\u001b[32m40\u001b[31m41\n",
            "\u001b[30m O numero 41 foi difisivel 2 vezes\n",
            "Esse numero e primo\n",
            "\u001b[31m1\u001b[31m2\u001b[31m3\u001b[32m4\u001b[32m5\u001b[31m6\u001b[31m7\u001b[32m8\u001b[32m9\u001b[32m10\u001b[32m11\u001b[32m12\u001b[32m13\u001b[31m14\u001b[32m15\u001b[32m16\u001b[32m17\u001b[32m18\u001b[32m19\u001b[32m20\u001b[31m21\u001b[32m22\u001b[32m23\u001b[32m24\u001b[32m25\u001b[32m26\u001b[32m27\u001b[32m28\u001b[32m29\u001b[32m30\u001b[32m31\u001b[32m32\u001b[32m33\u001b[32m34\u001b[32m35\u001b[32m36\u001b[32m37\u001b[32m38\u001b[32m39\u001b[32m40\u001b[32m41\u001b[31m42\n",
            "\u001b[30m O numero 42 foi difisivel 8 vezes\n",
            "Esse numero nao e primo\n",
            "\u001b[31m1\u001b[32m2\u001b[32m3\u001b[32m4\u001b[32m5\u001b[32m6\u001b[32m7\u001b[32m8\u001b[32m9\u001b[32m10\u001b[32m11\u001b[32m12\u001b[32m13\u001b[32m14\u001b[32m15\u001b[32m16\u001b[32m17\u001b[32m18\u001b[32m19\u001b[32m20\u001b[32m21\u001b[32m22\u001b[32m23\u001b[32m24\u001b[32m25\u001b[32m26\u001b[32m27\u001b[32m28\u001b[32m29\u001b[32m30\u001b[32m31\u001b[32m32\u001b[32m33\u001b[32m34\u001b[32m35\u001b[32m36\u001b[32m37\u001b[32m38\u001b[32m39\u001b[32m40\u001b[32m41\u001b[32m42\u001b[31m43\n",
            "\u001b[30m O numero 43 foi difisivel 2 vezes\n",
            "Esse numero e primo\n",
            "\u001b[31m1\u001b[31m2\u001b[32m3\u001b[31m4\u001b[32m5\u001b[32m6\u001b[32m7\u001b[32m8\u001b[32m9\u001b[32m10\u001b[31m11\u001b[32m12\u001b[32m13\u001b[32m14\u001b[32m15\u001b[32m16\u001b[32m17\u001b[32m18\u001b[32m19\u001b[32m20\u001b[32m21\u001b[31m22\u001b[32m23\u001b[32m24\u001b[32m25\u001b[32m26\u001b[32m27\u001b[32m28\u001b[32m29\u001b[32m30\u001b[32m31\u001b[32m32\u001b[32m33\u001b[32m34\u001b[32m35\u001b[32m36\u001b[32m37\u001b[32m38\u001b[32m39\u001b[32m40\u001b[32m41\u001b[32m42\u001b[32m43\u001b[31m44\n",
            "\u001b[30m O numero 44 foi difisivel 6 vezes\n",
            "Esse numero nao e primo\n",
            "\u001b[31m1\u001b[32m2\u001b[31m3\u001b[32m4\u001b[31m5\u001b[32m6\u001b[32m7\u001b[32m8\u001b[31m9\u001b[32m10\u001b[32m11\u001b[32m12\u001b[32m13\u001b[32m14\u001b[31m15\u001b[32m16\u001b[32m17\u001b[32m18\u001b[32m19\u001b[32m20\u001b[32m21\u001b[32m22\u001b[32m23\u001b[32m24\u001b[32m25\u001b[32m26\u001b[32m27\u001b[32m28\u001b[32m29\u001b[32m30\u001b[32m31\u001b[32m32\u001b[32m33\u001b[32m34\u001b[32m35\u001b[32m36\u001b[32m37\u001b[32m38\u001b[32m39\u001b[32m40\u001b[32m41\u001b[32m42\u001b[32m43\u001b[32m44\u001b[31m45\n",
            "\u001b[30m O numero 45 foi difisivel 6 vezes\n",
            "Esse numero nao e primo\n",
            "\u001b[31m1\u001b[31m2\u001b[32m3\u001b[32m4\u001b[32m5\u001b[32m6\u001b[32m7\u001b[32m8\u001b[32m9\u001b[32m10\u001b[32m11\u001b[32m12\u001b[32m13\u001b[32m14\u001b[32m15\u001b[32m16\u001b[32m17\u001b[32m18\u001b[32m19\u001b[32m20\u001b[32m21\u001b[32m22\u001b[31m23\u001b[32m24\u001b[32m25\u001b[32m26\u001b[32m27\u001b[32m28\u001b[32m29\u001b[32m30\u001b[32m31\u001b[32m32\u001b[32m33\u001b[32m34\u001b[32m35\u001b[32m36\u001b[32m37\u001b[32m38\u001b[32m39\u001b[32m40\u001b[32m41\u001b[32m42\u001b[32m43\u001b[32m44\u001b[32m45\u001b[31m46\n",
            "\u001b[30m O numero 46 foi difisivel 4 vezes\n",
            "Esse numero nao e primo\n",
            "\u001b[31m1\u001b[32m2\u001b[32m3\u001b[32m4\u001b[32m5\u001b[32m6\u001b[32m7\u001b[32m8\u001b[32m9\u001b[32m10\u001b[32m11\u001b[32m12\u001b[32m13\u001b[32m14\u001b[32m15\u001b[32m16\u001b[32m17\u001b[32m18\u001b[32m19\u001b[32m20\u001b[32m21\u001b[32m22\u001b[32m23\u001b[32m24\u001b[32m25\u001b[32m26\u001b[32m27\u001b[32m28\u001b[32m29\u001b[32m30\u001b[32m31\u001b[32m32\u001b[32m33\u001b[32m34\u001b[32m35\u001b[32m36\u001b[32m37\u001b[32m38\u001b[32m39\u001b[32m40\u001b[32m41\u001b[32m42\u001b[32m43\u001b[32m44\u001b[32m45\u001b[32m46\u001b[31m47\n",
            "\u001b[30m O numero 47 foi difisivel 2 vezes\n",
            "Esse numero e primo\n",
            "\u001b[31m1\u001b[31m2\u001b[31m3\u001b[31m4\u001b[32m5\u001b[31m6\u001b[32m7\u001b[31m8\u001b[32m9\u001b[32m10\u001b[32m11\u001b[31m12\u001b[32m13\u001b[32m14\u001b[32m15\u001b[31m16\u001b[32m17\u001b[32m18\u001b[32m19\u001b[32m20\u001b[32m21\u001b[32m22\u001b[32m23\u001b[31m24\u001b[32m25\u001b[32m26\u001b[32m27\u001b[32m28\u001b[32m29\u001b[32m30\u001b[32m31\u001b[32m32\u001b[32m33\u001b[32m34\u001b[32m35\u001b[32m36\u001b[32m37\u001b[32m38\u001b[32m39\u001b[32m40\u001b[32m41\u001b[32m42\u001b[32m43\u001b[32m44\u001b[32m45\u001b[32m46\u001b[32m47\u001b[31m48\n",
            "\u001b[30m O numero 48 foi difisivel 10 vezes\n",
            "Esse numero nao e primo\n",
            "\u001b[31m1\u001b[32m2\u001b[32m3\u001b[32m4\u001b[32m5\u001b[32m6\u001b[31m7\u001b[32m8\u001b[32m9\u001b[32m10\u001b[32m11\u001b[32m12\u001b[32m13\u001b[32m14\u001b[32m15\u001b[32m16\u001b[32m17\u001b[32m18\u001b[32m19\u001b[32m20\u001b[32m21\u001b[32m22\u001b[32m23\u001b[32m24\u001b[32m25\u001b[32m26\u001b[32m27\u001b[32m28\u001b[32m29\u001b[32m30\u001b[32m31\u001b[32m32\u001b[32m33\u001b[32m34\u001b[32m35\u001b[32m36\u001b[32m37\u001b[32m38\u001b[32m39\u001b[32m40\u001b[32m41\u001b[32m42\u001b[32m43\u001b[32m44\u001b[32m45\u001b[32m46\u001b[32m47\u001b[32m48\u001b[31m49\n",
            "\u001b[30m O numero 49 foi difisivel 3 vezes\n",
            "Esse numero nao e primo\n",
            "\u001b[31m1\u001b[31m2\u001b[32m3\u001b[32m4\u001b[31m5\u001b[32m6\u001b[32m7\u001b[32m8\u001b[32m9\u001b[31m10\u001b[32m11\u001b[32m12\u001b[32m13\u001b[32m14\u001b[32m15\u001b[32m16\u001b[32m17\u001b[32m18\u001b[32m19\u001b[32m20\u001b[32m21\u001b[32m22\u001b[32m23\u001b[32m24\u001b[31m25\u001b[32m26\u001b[32m27\u001b[32m28\u001b[32m29\u001b[32m30\u001b[32m31\u001b[32m32\u001b[32m33\u001b[32m34\u001b[32m35\u001b[32m36\u001b[32m37\u001b[32m38\u001b[32m39\u001b[32m40\u001b[32m41\u001b[32m42\u001b[32m43\u001b[32m44\u001b[32m45\u001b[32m46\u001b[32m47\u001b[32m48\u001b[32m49\u001b[31m50\n",
            "\u001b[30m O numero 50 foi difisivel 6 vezes\n",
            "Esse numero nao e primo\n",
            "\u001b[31m1\u001b[32m2\u001b[31m3\u001b[32m4\u001b[32m5\u001b[32m6\u001b[32m7\u001b[32m8\u001b[32m9\u001b[32m10\u001b[32m11\u001b[32m12\u001b[32m13\u001b[32m14\u001b[32m15\u001b[32m16\u001b[31m17\u001b[32m18\u001b[32m19\u001b[32m20\u001b[32m21\u001b[32m22\u001b[32m23\u001b[32m24\u001b[32m25\u001b[32m26\u001b[32m27\u001b[32m28\u001b[32m29\u001b[32m30\u001b[32m31\u001b[32m32\u001b[32m33\u001b[32m34\u001b[32m35\u001b[32m36\u001b[32m37\u001b[32m38\u001b[32m39\u001b[32m40\u001b[32m41\u001b[32m42\u001b[32m43\u001b[32m44\u001b[32m45\u001b[32m46\u001b[32m47\u001b[32m48\u001b[32m49\u001b[32m50\u001b[31m51\n",
            "\u001b[30m O numero 51 foi difisivel 4 vezes\n",
            "Esse numero nao e primo\n",
            "\u001b[31m1\u001b[31m2\u001b[32m3\u001b[31m4\u001b[32m5\u001b[32m6\u001b[32m7\u001b[32m8\u001b[32m9\u001b[32m10\u001b[32m11\u001b[32m12\u001b[31m13\u001b[32m14\u001b[32m15\u001b[32m16\u001b[32m17\u001b[32m18\u001b[32m19\u001b[32m20\u001b[32m21\u001b[32m22\u001b[32m23\u001b[32m24\u001b[32m25\u001b[31m26\u001b[32m27\u001b[32m28\u001b[32m29\u001b[32m30\u001b[32m31\u001b[32m32\u001b[32m33\u001b[32m34\u001b[32m35\u001b[32m36\u001b[32m37\u001b[32m38\u001b[32m39\u001b[32m40\u001b[32m41\u001b[32m42\u001b[32m43\u001b[32m44\u001b[32m45\u001b[32m46\u001b[32m47\u001b[32m48\u001b[32m49\u001b[32m50\u001b[32m51\u001b[31m52\n",
            "\u001b[30m O numero 52 foi difisivel 6 vezes\n",
            "Esse numero nao e primo\n",
            "\u001b[31m1\u001b[32m2\u001b[32m3\u001b[32m4\u001b[32m5\u001b[32m6\u001b[32m7\u001b[32m8\u001b[32m9\u001b[32m10\u001b[32m11\u001b[32m12\u001b[32m13\u001b[32m14\u001b[32m15\u001b[32m16\u001b[32m17\u001b[32m18\u001b[32m19\u001b[32m20\u001b[32m21\u001b[32m22\u001b[32m23\u001b[32m24\u001b[32m25\u001b[32m26\u001b[32m27\u001b[32m28\u001b[32m29\u001b[32m30\u001b[32m31\u001b[32m32\u001b[32m33\u001b[32m34\u001b[32m35\u001b[32m36\u001b[32m37\u001b[32m38\u001b[32m39\u001b[32m40\u001b[32m41\u001b[32m42\u001b[32m43\u001b[32m44\u001b[32m45\u001b[32m46\u001b[32m47\u001b[32m48\u001b[32m49\u001b[32m50\u001b[32m51\u001b[32m52\u001b[31m53\n",
            "\u001b[30m O numero 53 foi difisivel 2 vezes\n",
            "Esse numero e primo\n",
            "\u001b[31m1\u001b[31m2\u001b[31m3\u001b[32m4\u001b[32m5\u001b[31m6\u001b[32m7\u001b[32m8\u001b[31m9\u001b[32m10\u001b[32m11\u001b[32m12\u001b[32m13\u001b[32m14\u001b[32m15\u001b[32m16\u001b[32m17\u001b[31m18\u001b[32m19\u001b[32m20\u001b[32m21\u001b[32m22\u001b[32m23\u001b[32m24\u001b[32m25\u001b[32m26\u001b[31m27\u001b[32m28\u001b[32m29\u001b[32m30\u001b[32m31\u001b[32m32\u001b[32m33\u001b[32m34\u001b[32m35\u001b[32m36\u001b[32m37\u001b[32m38\u001b[32m39\u001b[32m40\u001b[32m41\u001b[32m42\u001b[32m43\u001b[32m44\u001b[32m45\u001b[32m46\u001b[32m47\u001b[32m48\u001b[32m49\u001b[32m50\u001b[32m51\u001b[32m52\u001b[32m53\u001b[31m54\n",
            "\u001b[30m O numero 54 foi difisivel 8 vezes\n",
            "Esse numero nao e primo\n",
            "\u001b[31m1\u001b[32m2\u001b[32m3\u001b[32m4\u001b[31m5\u001b[32m6\u001b[32m7\u001b[32m8\u001b[32m9\u001b[32m10\u001b[31m11\u001b[32m12\u001b[32m13\u001b[32m14\u001b[32m15\u001b[32m16\u001b[32m17\u001b[32m18\u001b[32m19\u001b[32m20\u001b[32m21\u001b[32m22\u001b[32m23\u001b[32m24\u001b[32m25\u001b[32m26\u001b[32m27\u001b[32m28\u001b[32m29\u001b[32m30\u001b[32m31\u001b[32m32\u001b[32m33\u001b[32m34\u001b[32m35\u001b[32m36\u001b[32m37\u001b[32m38\u001b[32m39\u001b[32m40\u001b[32m41\u001b[32m42\u001b[32m43\u001b[32m44\u001b[32m45\u001b[32m46\u001b[32m47\u001b[32m48\u001b[32m49\u001b[32m50\u001b[32m51\u001b[32m52\u001b[32m53\u001b[32m54\u001b[31m55\n",
            "\u001b[30m O numero 55 foi difisivel 4 vezes\n",
            "Esse numero nao e primo\n",
            "\u001b[31m1\u001b[31m2\u001b[32m3\u001b[31m4\u001b[32m5\u001b[32m6\u001b[31m7\u001b[31m8\u001b[32m9\u001b[32m10\u001b[32m11\u001b[32m12\u001b[32m13\u001b[31m14\u001b[32m15\u001b[32m16\u001b[32m17\u001b[32m18\u001b[32m19\u001b[32m20\u001b[32m21\u001b[32m22\u001b[32m23\u001b[32m24\u001b[32m25\u001b[32m26\u001b[32m27\u001b[31m28\u001b[32m29\u001b[32m30\u001b[32m31\u001b[32m32\u001b[32m33\u001b[32m34\u001b[32m35\u001b[32m36\u001b[32m37\u001b[32m38\u001b[32m39\u001b[32m40\u001b[32m41\u001b[32m42\u001b[32m43\u001b[32m44\u001b[32m45\u001b[32m46\u001b[32m47\u001b[32m48\u001b[32m49\u001b[32m50\u001b[32m51\u001b[32m52\u001b[32m53\u001b[32m54\u001b[32m55\u001b[31m56\n",
            "\u001b[30m O numero 56 foi difisivel 8 vezes\n",
            "Esse numero nao e primo\n",
            "\u001b[31m1\u001b[32m2\u001b[31m3\u001b[32m4\u001b[32m5\u001b[32m6\u001b[32m7\u001b[32m8\u001b[32m9\u001b[32m10\u001b[32m11\u001b[32m12\u001b[32m13\u001b[32m14\u001b[32m15\u001b[32m16\u001b[32m17\u001b[32m18\u001b[31m19\u001b[32m20\u001b[32m21\u001b[32m22\u001b[32m23\u001b[32m24\u001b[32m25\u001b[32m26\u001b[32m27\u001b[32m28\u001b[32m29\u001b[32m30\u001b[32m31\u001b[32m32\u001b[32m33\u001b[32m34\u001b[32m35\u001b[32m36\u001b[32m37\u001b[32m38\u001b[32m39\u001b[32m40\u001b[32m41\u001b[32m42\u001b[32m43\u001b[32m44\u001b[32m45\u001b[32m46\u001b[32m47\u001b[32m48\u001b[32m49\u001b[32m50\u001b[32m51\u001b[32m52\u001b[32m53\u001b[32m54\u001b[32m55\u001b[32m56\u001b[31m57\n",
            "\u001b[30m O numero 57 foi difisivel 4 vezes\n",
            "Esse numero nao e primo\n",
            "\u001b[31m1\u001b[31m2\u001b[32m3\u001b[32m4\u001b[32m5\u001b[32m6\u001b[32m7\u001b[32m8\u001b[32m9\u001b[32m10\u001b[32m11\u001b[32m12\u001b[32m13\u001b[32m14\u001b[32m15\u001b[32m16\u001b[32m17\u001b[32m18\u001b[32m19\u001b[32m20\u001b[32m21\u001b[32m22\u001b[32m23\u001b[32m24\u001b[32m25\u001b[32m26\u001b[32m27\u001b[32m28\u001b[31m29\u001b[32m30\u001b[32m31\u001b[32m32\u001b[32m33\u001b[32m34\u001b[32m35\u001b[32m36\u001b[32m37\u001b[32m38\u001b[32m39\u001b[32m40\u001b[32m41\u001b[32m42\u001b[32m43\u001b[32m44\u001b[32m45\u001b[32m46\u001b[32m47\u001b[32m48\u001b[32m49\u001b[32m50\u001b[32m51\u001b[32m52\u001b[32m53\u001b[32m54\u001b[32m55\u001b[32m56\u001b[32m57\u001b[31m58\n",
            "\u001b[30m O numero 58 foi difisivel 4 vezes\n",
            "Esse numero nao e primo\n",
            "\u001b[31m1\u001b[32m2\u001b[32m3\u001b[32m4\u001b[32m5\u001b[32m6\u001b[32m7\u001b[32m8\u001b[32m9\u001b[32m10\u001b[32m11\u001b[32m12\u001b[32m13\u001b[32m14\u001b[32m15\u001b[32m16\u001b[32m17\u001b[32m18\u001b[32m19\u001b[32m20\u001b[32m21\u001b[32m22\u001b[32m23\u001b[32m24\u001b[32m25\u001b[32m26\u001b[32m27\u001b[32m28\u001b[32m29\u001b[32m30\u001b[32m31\u001b[32m32\u001b[32m33\u001b[32m34\u001b[32m35\u001b[32m36\u001b[32m37\u001b[32m38\u001b[32m39\u001b[32m40\u001b[32m41\u001b[32m42\u001b[32m43\u001b[32m44\u001b[32m45\u001b[32m46\u001b[32m47\u001b[32m48\u001b[32m49\u001b[32m50\u001b[32m51\u001b[32m52\u001b[32m53\u001b[32m54\u001b[32m55\u001b[32m56\u001b[32m57\u001b[32m58\u001b[31m59\n",
            "\u001b[30m O numero 59 foi difisivel 2 vezes\n",
            "Esse numero e primo\n",
            "\u001b[31m1\u001b[31m2\u001b[31m3\u001b[31m4\u001b[31m5\u001b[31m6\u001b[32m7\u001b[32m8\u001b[32m9\u001b[31m10\u001b[32m11\u001b[31m12\u001b[32m13\u001b[32m14\u001b[31m15\u001b[32m16\u001b[32m17\u001b[32m18\u001b[32m19\u001b[31m20\u001b[32m21\u001b[32m22\u001b[32m23\u001b[32m24\u001b[32m25\u001b[32m26\u001b[32m27\u001b[32m28\u001b[32m29\u001b[31m30\u001b[32m31\u001b[32m32\u001b[32m33\u001b[32m34\u001b[32m35\u001b[32m36\u001b[32m37\u001b[32m38\u001b[32m39\u001b[32m40\u001b[32m41\u001b[32m42\u001b[32m43\u001b[32m44\u001b[32m45\u001b[32m46\u001b[32m47\u001b[32m48\u001b[32m49\u001b[32m50\u001b[32m51\u001b[32m52\u001b[32m53\u001b[32m54\u001b[32m55\u001b[32m56\u001b[32m57\u001b[32m58\u001b[32m59\u001b[31m60\n",
            "\u001b[30m O numero 60 foi difisivel 12 vezes\n",
            "Esse numero nao e primo\n"
          ],
          "name": "stdout"
        }
      ]
    },
    {
      "cell_type": "code",
      "metadata": {
        "id": "dK6iSx73xfoM",
        "colab_type": "code",
        "outputId": "4158b052-d323-40bd-e830-5ea4bcf981b0",
        "colab": {
          "base_uri": "https://localhost:8080/",
          "height": 50
        }
      },
      "source": [
        "print('O numero {} tem {} divisiveis'.format(n,tot))\n",
        "print('O numero {} tem {} primos'.format(n,nprimo))"
      ],
      "execution_count": 0,
      "outputs": [
        {
          "output_type": "stream",
          "text": [
            "O numero 60 tem 12 divisiveis\n",
            "O numero 60 tem 17 primos\n"
          ],
          "name": "stdout"
        }
      ]
    },
    {
      "cell_type": "code",
      "metadata": {
        "id": "E6uUyjZzE-DB",
        "colab_type": "code",
        "outputId": "ecbb6b3e-23f7-496e-d7ed-3b0b56ba66cf",
        "colab": {
          "base_uri": "https://localhost:8080/",
          "height": 33
        }
      },
      "source": [
        "# os divisores positivos de 60 sao : 1 ,2 ,3 ,4 ,5 ,6 ,10 ,12 ,15 ,20 ,30 ,60 . = 12 numeros\n",
        "# dentre eles os primos sao: 2, 3 ,5 = 3 primos\n",
        "\n",
        "# Portanto:\n",
        "\n",
        "prob = 3/12*100\n",
        "\n",
        "print(round(prob,2),\"%\")"
      ],
      "execution_count": 0,
      "outputs": [
        {
          "output_type": "stream",
          "text": [
            "25.0 %\n"
          ],
          "name": "stdout"
        }
      ]
    },
    {
      "cell_type": "markdown",
      "metadata": {
        "id": "lTV01EBMS3-w",
        "colab_type": "text"
      },
      "source": [
        "## **10**  Em uma urna existem bolas enumeradas de 1 a 15.Qualquer   uma   delas   possui   a   mesma   chance   de   serretirada. Determine a probabilidade de se retirar uma bolacom número nas seguintes condições:\n",
        "\n",
        "a) par \n",
        "\n",
        "b) primo\n",
        "\n",
        "c) par ou primo\n",
        "\n",
        "d) par e primo"
      ]
    },
    {
      "cell_type": "code",
      "metadata": {
        "id": "lWaOhRlH9Int",
        "colab_type": "code",
        "colab": {}
      },
      "source": [
        "# Dados:\n",
        "# Espaço Amostral = 15\n",
        "# numeros pares = 7 (2,4,6,8,10,12,14)\n",
        "# numeros impares = 8 (1,3,5,7,9,11,13,15)\n",
        "# numeros primos = 6 (2,3,5,7,11,13)\n",
        "# numero par e primo = (2)"
      ],
      "execution_count": 0,
      "outputs": []
    },
    {
      "cell_type": "code",
      "metadata": {
        "id": "zKWnlgEJ-F60",
        "colab_type": "code",
        "outputId": "672cb3d4-abcb-4535-d767-28657d099725",
        "colab": {
          "base_uri": "https://localhost:8080/",
          "height": 33
        }
      },
      "source": [
        "# a) só pares\n",
        "\n",
        "probpar = 7/15*100\n",
        "print(round(probpar,2),\"%\")"
      ],
      "execution_count": 0,
      "outputs": [
        {
          "output_type": "stream",
          "text": [
            "46.67 %\n"
          ],
          "name": "stdout"
        }
      ]
    },
    {
      "cell_type": "code",
      "metadata": {
        "id": "AN-1x6Oq-Vuo",
        "colab_type": "code",
        "outputId": "4f0fecdb-dbd3-448a-e21a-a97c5155e454",
        "colab": {
          "base_uri": "https://localhost:8080/",
          "height": 33
        }
      },
      "source": [
        "# a+) só impares\n",
        "\n",
        "probimpar = 8/15*100\n",
        "print(round(probimpar,2),\"%\")"
      ],
      "execution_count": 0,
      "outputs": [
        {
          "output_type": "stream",
          "text": [
            "53.33 %\n"
          ],
          "name": "stdout"
        }
      ]
    },
    {
      "cell_type": "code",
      "metadata": {
        "id": "hwozn8uN-eno",
        "colab_type": "code",
        "outputId": "cc117af2-e3e5-443e-9ea1-85aa632fcf0b",
        "colab": {
          "base_uri": "https://localhost:8080/",
          "height": 33
        }
      },
      "source": [
        "# b) só primos\n",
        "\n",
        "probpri = 6/15*100\n",
        "print(round(probpri,2),\"%\")"
      ],
      "execution_count": 0,
      "outputs": [
        {
          "output_type": "stream",
          "text": [
            "40.0 %\n"
          ],
          "name": "stdout"
        }
      ]
    },
    {
      "cell_type": "code",
      "metadata": {
        "id": "qKH_lNRr-sUG",
        "colab_type": "code",
        "outputId": "f2cf9ec1-b0ee-4dca-d858-6d23dc639ebb",
        "colab": {
          "base_uri": "https://localhost:8080/",
          "height": 33
        }
      },
      "source": [
        "# c) soma par e primos\n",
        "\n",
        "probpp = 12/15*100\n",
        "print(round(probpp,2),\"%\")"
      ],
      "execution_count": 0,
      "outputs": [
        {
          "output_type": "stream",
          "text": [
            "80.0 %\n"
          ],
          "name": "stdout"
        }
      ]
    },
    {
      "cell_type": "code",
      "metadata": {
        "id": "AJ1EZd7J_Rr7",
        "colab_type": "code",
        "outputId": "406124df-d63f-49cb-dbb2-651544e8cd61",
        "colab": {
          "base_uri": "https://localhost:8080/",
          "height": 33
        }
      },
      "source": [
        "# d) só o dois é par e primo\n",
        "\n",
        "probpoup = 1/15*100\n",
        "print(round(probpoup,2),\"%\")"
      ],
      "execution_count": 0,
      "outputs": [
        {
          "output_type": "stream",
          "text": [
            "6.67 %\n"
          ],
          "name": "stdout"
        }
      ]
    },
    {
      "cell_type": "markdown",
      "metadata": {
        "id": "ismWs6HDS7fJ",
        "colab_type": "text"
      },
      "source": [
        "## **11**  Um   teste   de   múltipla   escolha   é   composto   de   12questões,   com   5   alternativas   de   resposta,   sendo   quesomente uma, é correta.  Calcule a probabilidade de umapessoa, marcando aleatoriamente as 12 questões, acertarmetade das respostas. "
      ]
    },
    {
      "cell_type": "code",
      "metadata": {
        "id": "ikVGSkWoFLT5",
        "colab_type": "code",
        "outputId": "0deadedf-c9c5-4fdf-b3d9-3eb62b1a73db",
        "colab": {
          "base_uri": "https://localhost:8080/",
          "height": 33
        }
      },
      "source": [
        "# Probabilidade de acertar uma resposta de uma questão\n",
        "from math import factorial\n",
        "\n",
        "N = 8 \n",
        "K = 5\n",
        "p = 1/2\n",
        "q = (1-p)\n",
        "\n",
        "\n",
        "prob = (factorial(N) / (factorial(K)*factorial(N-K))) *(p**K)*(q**(N-K))\n",
        "print(round(prob*100,2),\"%\")"
      ],
      "execution_count": 0,
      "outputs": [
        {
          "output_type": "stream",
          "text": [
            "1.55 %\n"
          ],
          "name": "stdout"
        }
      ]
    },
    {
      "cell_type": "markdown",
      "metadata": {
        "id": "hErIx2iLTCG1",
        "colab_type": "text"
      },
      "source": [
        "## **12**  Uma   moeda   é   lançada   10   vezes.   Determine   aprobabilidade de sair “coroa” 7 vezes."
      ]
    },
    {
      "cell_type": "markdown",
      "metadata": {
        "id": "_pm4f2MpM4ZK",
        "colab_type": "text"
      },
      "source": [
        "**P(S)= Binomio(J/S) x p^(S) x q^(J-S) **\n",
        "\n",
        "\n",
        "\n",
        "P(S) = Probabilidade pelo sucesso desejado\n",
        "\n",
        "J = Jogadas\n",
        "\n",
        "S = Sucess desejado\n",
        "\n",
        "p = probabilidade de acertar um evento (ex. uma moeda tem 0,5 de probabilidade) \n",
        "\n",
        "q = ( 1 - p )\n"
      ]
    },
    {
      "cell_type": "code",
      "metadata": {
        "id": "pe2J2XvAJzJ5",
        "colab_type": "code",
        "outputId": "23699b0a-f127-4be6-b8f8-70378613017e",
        "colab": {
          "base_uri": "https://localhost:8080/",
          "height": 33
        }
      },
      "source": [
        "from math import factorial\n",
        "\n",
        "#resolvendo o binomio 10 tentativas para acertar 7\n",
        "\n",
        "C = factorial(10) / (factorial(7)*factorial(10-7))\n",
        "C"
      ],
      "execution_count": 0,
      "outputs": [
        {
          "output_type": "execute_result",
          "data": {
            "text/plain": [
              "120.0"
            ]
          },
          "metadata": {
            "tags": []
          },
          "execution_count": 78
        }
      ]
    },
    {
      "cell_type": "code",
      "metadata": {
        "id": "AicdQFzIMkBc",
        "colab_type": "code",
        "outputId": "8cc161df-54c2-4d88-de33-38684d3a8656",
        "colab": {
          "base_uri": "https://localhost:8080/",
          "height": 33
        }
      },
      "source": [
        "# resolvendo o restante da formula \n",
        "\n",
        "R = ((1/2)**7) * ((1-1/2)**(10-7))\n",
        "R\n"
      ],
      "execution_count": 0,
      "outputs": [
        {
          "output_type": "execute_result",
          "data": {
            "text/plain": [
              "0.0009765625"
            ]
          },
          "metadata": {
            "tags": []
          },
          "execution_count": 79
        }
      ]
    },
    {
      "cell_type": "code",
      "metadata": {
        "id": "0m2syj0c7oa4",
        "colab_type": "code",
        "outputId": "7f980f0e-f706-4847-8bd0-08c718f7346e",
        "colab": {
          "base_uri": "https://localhost:8080/",
          "height": 33
        }
      },
      "source": [
        "# RESPOSTA: \n",
        "\n",
        "prob = C*R*100\n",
        "print(round(prob,2),\"%\")"
      ],
      "execution_count": 0,
      "outputs": [
        {
          "output_type": "stream",
          "text": [
            "11.72 %\n"
          ],
          "name": "stdout"
        }
      ]
    },
    {
      "cell_type": "code",
      "metadata": {
        "id": "5BPsHu0D7vFz",
        "colab_type": "code",
        "outputId": "3d87eac4-a43c-4055-cdb4-4b3be92633bb",
        "colab": {
          "base_uri": "https://localhost:8080/",
          "height": 33
        }
      },
      "source": [
        "# A mesma conta melhor estruturada\n",
        "\n",
        "N = 10 \n",
        "K = 7\n",
        "p = 1/2\n",
        "q = (1-p)\n",
        "\n",
        "\n",
        "prob = (factorial(N) / (factorial(K)*factorial(N-K))) *(p**K)*(q**(N-K))\n",
        "print(round(prob*100,2),\"%\")"
      ],
      "execution_count": 0,
      "outputs": [
        {
          "output_type": "stream",
          "text": [
            "11.72 %\n"
          ],
          "name": "stdout"
        }
      ]
    },
    {
      "cell_type": "markdown",
      "metadata": {
        "id": "EHyKOppsTEuG",
        "colab_type": "text"
      },
      "source": [
        "## **13**  (BB – Cesgranrio). Uma moeda não tendenciosa é lançada   até   que   sejam   obtidos   dois   resultados consecutivos iguais. Qual a probabilidade de a moeda ser lançada exatamente três vezes? "
      ]
    },
    {
      "cell_type": "code",
      "metadata": {
        "id": "F830RyCOS5Df",
        "colab_type": "code",
        "outputId": "f7c373f3-3d85-4ad4-bbad-1e2780c38bde",
        "colab": {
          "base_uri": "https://localhost:8080/",
          "height": 147
        }
      },
      "source": [
        "# 0 = CARA , 1 = COROA\n",
        "\n",
        "moeda1 = np.array([0,1])\n",
        "\n",
        "for x in range(2):\n",
        "  for y in range(2):\n",
        "    for z in range(2):\n",
        "        print(moeda1[x],moeda1[y],moeda1[z])"
      ],
      "execution_count": 0,
      "outputs": [
        {
          "output_type": "stream",
          "text": [
            "0 0 0\n",
            "0 0 1\n",
            "0 1 0\n",
            "0 1 1\n",
            "1 0 0\n",
            "1 0 1\n",
            "1 1 0\n",
            "1 1 1\n"
          ],
          "name": "stdout"
        }
      ]
    },
    {
      "cell_type": "code",
      "metadata": {
        "id": "xOyPb7U7UkkS",
        "colab_type": "code",
        "outputId": "57e92673-33a6-4f26-cb6c-cdd0ba316117",
        "colab": {
          "base_uri": "https://localhost:8080/",
          "height": 33
        }
      },
      "source": [
        "# Para a simulacao acima jogando a moeda sempre 3 vezes temos 8 combinacoes diferentes\n",
        "# E para duas delas temos duas CARAS em sequencia\n",
        "\n",
        "# portanto\n",
        "\n",
        "probc= 2/8*100\n",
        "probc"
      ],
      "execution_count": 0,
      "outputs": [
        {
          "output_type": "execute_result",
          "data": {
            "text/plain": [
              "25.0"
            ]
          },
          "metadata": {
            "tags": []
          },
          "execution_count": 166
        }
      ]
    },
    {
      "cell_type": "code",
      "metadata": {
        "id": "AwMT1VfnUWzj",
        "colab_type": "code",
        "outputId": "e67bfdc3-1857-4ddc-91aa-2bc40cfdfa03",
        "colab": {
          "base_uri": "https://localhost:8080/",
          "height": 33
        }
      },
      "source": [
        "resposta = 1/4*100\n",
        "resposta"
      ],
      "execution_count": 0,
      "outputs": [
        {
          "output_type": "execute_result",
          "data": {
            "text/plain": [
              "25.0"
            ]
          },
          "metadata": {
            "tags": []
          },
          "execution_count": 136
        }
      ]
    },
    {
      "cell_type": "markdown",
      "metadata": {
        "id": "voR-tj7JTKFq",
        "colab_type": "text"
      },
      "source": [
        "## **14**  (BB   –  FCC).   Para   disputar   a   final   de   um   torneiointernacional   de   natação,   classificaram-se   8   atletas:   3norte-americanos, 1 australiano, 1 japonês, 1 francês e 2brasileiros.   Considerando   que   todos   os   atletasclassificados   são   ótimos   e   têm   iguais   condições   dereceber   uma   medalha   (de   ouro,   prata   ou   bronze),   aprobabilidade   de   que  pelo   menos   um   brasileiro   estejaentre os três primeiros colocados é igual a: "
      ]
    },
    {
      "cell_type": "code",
      "metadata": {
        "id": "ENqPuecGY9Xk",
        "colab_type": "code",
        "outputId": "c9c83c50-1439-4bb8-ad76-456c4bbe2df2",
        "colab": {
          "base_uri": "https://localhost:8080/",
          "height": 33
        }
      },
      "source": [
        "# OURO    # PRATA     # BRONZE\n",
        "\n",
        "# 8 PESSOAS\n",
        "# 2 BRASILEIROS\n",
        "\n",
        "#Probabilidades sem brasileiros no podio\n",
        "\n",
        "probO = 6/8\n",
        "probP = 5/7\n",
        "probB = 4/6\n",
        "\n",
        "probtot=probO*probP*probB\n",
        "probBR = 1-probtot\n",
        "probBR"
      ],
      "execution_count": 0,
      "outputs": [
        {
          "output_type": "execute_result",
          "data": {
            "text/plain": [
              "0.6428571428571429"
            ]
          },
          "metadata": {
            "tags": []
          },
          "execution_count": 163
        }
      ]
    },
    {
      "cell_type": "code",
      "metadata": {
        "id": "9sijUYbiAUv9",
        "colab_type": "code",
        "outputId": "f6cbd9a6-c340-401d-8fd0-5d6c0dce8144",
        "colab": {
          "base_uri": "https://localhost:8080/",
          "height": 33
        }
      },
      "source": [
        "resultado=9/14\n",
        "resultado"
      ],
      "execution_count": 0,
      "outputs": [
        {
          "output_type": "execute_result",
          "data": {
            "text/plain": [
              "0.6428571428571429"
            ]
          },
          "metadata": {
            "tags": []
          },
          "execution_count": 162
        }
      ]
    },
    {
      "cell_type": "markdown",
      "metadata": {
        "id": "lx_mn4qCTK9C",
        "colab_type": "text"
      },
      "source": [
        "## **15**  (BB   –   Cesgranrio).   Uma   urna   contém   5   bolas amarelas, 6 bolas azuis e 7 bolas verdes. Cinco bolas sãoaleatoriamente escolhidas desta urna, sem reposição. Aprobabilidade   de   selecionar,   no   mínimo,   uma   bola   decada cor é "
      ]
    },
    {
      "cell_type": "code",
      "metadata": {
        "id": "Lg7-LpZT8Mwd",
        "colab_type": "code",
        "outputId": "0fb943d1-dec7-42fb-a972-59e7a3f1c8aa",
        "colab": {
          "base_uri": "https://localhost:8080/",
          "height": 34
        }
      },
      "source": [
        "from math import factorial\n",
        "\n",
        "N = 13 \n",
        "K = 5\n",
        "\n",
        "prob01 = (factorial(N) / (factorial(K)*factorial(N-K))) \n",
        "print(round(prob,2))"
      ],
      "execution_count": 0,
      "outputs": [
        {
          "output_type": "stream",
          "text": [
            "792.0\n"
          ],
          "name": "stdout"
        }
      ]
    },
    {
      "cell_type": "code",
      "metadata": {
        "id": "5wJGbaldda1f",
        "colab_type": "code",
        "outputId": "ec8fe171-85f4-41e4-c706-23e523f2aefd",
        "colab": {
          "base_uri": "https://localhost:8080/",
          "height": 34
        }
      },
      "source": [
        "N = 12 \n",
        "K = 5\n",
        "\n",
        "prob02 = (factorial(N) / (factorial(K)*factorial(N-K))) \n",
        "print(round(prob,2))"
      ],
      "execution_count": 0,
      "outputs": [
        {
          "output_type": "stream",
          "text": [
            "792.0\n"
          ],
          "name": "stdout"
        }
      ]
    },
    {
      "cell_type": "code",
      "metadata": {
        "id": "8Z5LenpHdceJ",
        "colab_type": "code",
        "outputId": "987086a1-ced5-43f3-93c9-b44b8221155b",
        "colab": {
          "base_uri": "https://localhost:8080/",
          "height": 34
        }
      },
      "source": [
        "N = 11\n",
        "K = 5\n",
        "\n",
        "prob03 = (factorial(N) / (factorial(K)*factorial(N-K))) \n",
        "print(round(prob,2))"
      ],
      "execution_count": 0,
      "outputs": [
        {
          "output_type": "stream",
          "text": [
            "792.0\n"
          ],
          "name": "stdout"
        }
      ]
    },
    {
      "cell_type": "code",
      "metadata": {
        "id": "oRv8bCE3dd8a",
        "colab_type": "code",
        "outputId": "4dc68a6c-df4b-4382-de35-a63682225b8d",
        "colab": {
          "base_uri": "https://localhost:8080/",
          "height": 34
        }
      },
      "source": [
        "N = 5\n",
        "K = 5\n",
        "\n",
        "prob04 = (factorial(N) / (factorial(K)*factorial(N-K))) \n",
        "print(round(prob,2))"
      ],
      "execution_count": 0,
      "outputs": [
        {
          "output_type": "stream",
          "text": [
            "792.0\n"
          ],
          "name": "stdout"
        }
      ]
    },
    {
      "cell_type": "code",
      "metadata": {
        "id": "hDFilVq0dfWV",
        "colab_type": "code",
        "outputId": "37a8c1aa-ba60-4902-cb1c-79fbe653720a",
        "colab": {
          "base_uri": "https://localhost:8080/",
          "height": 34
        }
      },
      "source": [
        "N = 7\n",
        "K = 5\n",
        "\n",
        "prob05 = (factorial(N) / (factorial(K)*factorial(N-K))) \n",
        "print(round(prob,2))"
      ],
      "execution_count": 0,
      "outputs": [
        {
          "output_type": "stream",
          "text": [
            "792.0\n"
          ],
          "name": "stdout"
        }
      ]
    },
    {
      "cell_type": "code",
      "metadata": {
        "id": "5MlXARFmdgbl",
        "colab_type": "code",
        "outputId": "38bc7651-9340-4790-905d-b8faa0531df5",
        "colab": {
          "base_uri": "https://localhost:8080/",
          "height": 34
        }
      },
      "source": [
        "N = 18 \n",
        "K = 5\n",
        "\n",
        "prob06 = (factorial(N) / (factorial(K)*factorial(N-K))) \n",
        "print(round(prob,2))"
      ],
      "execution_count": 0,
      "outputs": [
        {
          "output_type": "stream",
          "text": [
            "792.0\n"
          ],
          "name": "stdout"
        }
      ]
    },
    {
      "cell_type": "code",
      "metadata": {
        "id": "_qoJvsM3dsHJ",
        "colab_type": "code",
        "outputId": "166ca18a-8785-4aeb-8afb-bddd98d04773",
        "colab": {
          "base_uri": "https://localhost:8080/",
          "height": 34
        }
      },
      "source": [
        "Tot = 1-(prob01+prob02+prob03+prob04+prob05)/prob06\n",
        "Tot"
      ],
      "execution_count": 0,
      "outputs": [
        {
          "output_type": "execute_result",
          "data": {
            "text/plain": [
              "0.7008636788048552"
            ]
          },
          "metadata": {
            "tags": []
          },
          "execution_count": 20
        }
      ]
    },
    {
      "cell_type": "markdown",
      "metadata": {
        "id": "TjCGv7Z6TOH9",
        "colab_type": "text"
      },
      "source": [
        "## **16**  (PM   PE   –   IAUPE).   Dos   500   aprovados   em   umconcurso, 205 falam inglês, 210, espanhol, e 65, ambosos idiomas. Escolhendo ao acaso um dos aprovados, quala probabilidade de ele não falar nenhum desses idiomas? "
      ]
    },
    {
      "cell_type": "code",
      "metadata": {
        "id": "-1ySKKPMGNHa",
        "colab_type": "code",
        "outputId": "ae9bd851-926c-45f2-e325-a62888617336",
        "colab": {
          "base_uri": "https://localhost:8080/",
          "height": 33
        }
      },
      "source": [
        "# 500 \n",
        "# 205 falam ingles\n",
        "# 210 falam espanhol\n",
        "# 65 ambos os idiomas\n",
        "# Nao fala nenhum = 500 - 205 - 210 -65 -65 = \n",
        "sing = 205-65\n",
        "sing"
      ],
      "execution_count": 0,
      "outputs": [
        {
          "output_type": "execute_result",
          "data": {
            "text/plain": [
              "140"
            ]
          },
          "metadata": {
            "tags": []
          },
          "execution_count": 84
        }
      ]
    },
    {
      "cell_type": "code",
      "metadata": {
        "id": "p_8mY3YRImwl",
        "colab_type": "code",
        "outputId": "5479918c-94c8-4177-9013-571a44b0889a",
        "colab": {
          "base_uri": "https://localhost:8080/",
          "height": 33
        }
      },
      "source": [
        "sesp= 210-65\n",
        "sesp"
      ],
      "execution_count": 0,
      "outputs": [
        {
          "output_type": "execute_result",
          "data": {
            "text/plain": [
              "145"
            ]
          },
          "metadata": {
            "tags": []
          },
          "execution_count": 85
        }
      ]
    },
    {
      "cell_type": "code",
      "metadata": {
        "id": "4iXu7mwGIpdH",
        "colab_type": "code",
        "outputId": "6fcd436b-9ef8-4aae-8233-4244dc7287bb",
        "colab": {
          "base_uri": "https://localhost:8080/",
          "height": 33
        }
      },
      "source": [
        "nfala = 500-sing-sesp-65\n",
        "nfala"
      ],
      "execution_count": 0,
      "outputs": [
        {
          "output_type": "execute_result",
          "data": {
            "text/plain": [
              "150"
            ]
          },
          "metadata": {
            "tags": []
          },
          "execution_count": 86
        }
      ]
    },
    {
      "cell_type": "code",
      "metadata": {
        "id": "RRUliXElJBNW",
        "colab_type": "code",
        "outputId": "528af88d-f6e6-49d1-bae3-41b9cd8e0dac",
        "colab": {
          "base_uri": "https://localhost:8080/",
          "height": 33
        }
      },
      "source": [
        "probnf = nfala/500*100\n",
        "print(round(probnf,2),\"%\")\n"
      ],
      "execution_count": 0,
      "outputs": [
        {
          "output_type": "stream",
          "text": [
            "30.0 %\n"
          ],
          "name": "stdout"
        }
      ]
    },
    {
      "cell_type": "markdown",
      "metadata": {
        "id": "eYFA1-DuTP9E",
        "colab_type": "text"
      },
      "source": [
        "## **17** Dados os algarismos 1, 2, 3, 4, 5, 6 e 7, construímos todos os números que podem ser representados usando dois     deles     sem   repetir.     Escolhendo   ao   acaso,aleatoriamente, um   dos   números   formados,   qual aprobabilidade  de  o  número sorteado ser: \n",
        "\n",
        "a) par  \n",
        "\n",
        "b) múltiplo de 5?"
      ]
    },
    {
      "cell_type": "code",
      "metadata": {
        "id": "VlItQhHTLEW2",
        "colab_type": "code",
        "outputId": "0d9d4f52-4286-4e7f-cdb3-496e44067e64",
        "colab": {
          "base_uri": "https://localhost:8080/",
          "height": 813
        }
      },
      "source": [
        "import numpy as np\n",
        "\n",
        "numeros = np.array([1,2,3,4,5,6,7])\n",
        "\n",
        "for x in range(7):\n",
        "  for y in range(7):\n",
        "    print(numeros[x],numeros[y])\n"
      ],
      "execution_count": 0,
      "outputs": [
        {
          "output_type": "stream",
          "text": [
            "1 1\n",
            "1 2\n",
            "1 3\n",
            "1 4\n",
            "1 5\n",
            "1 6\n",
            "1 7\n",
            "2 1\n",
            "2 2\n",
            "2 3\n",
            "2 4\n",
            "2 5\n",
            "2 6\n",
            "2 7\n",
            "3 1\n",
            "3 2\n",
            "3 3\n",
            "3 4\n",
            "3 5\n",
            "3 6\n",
            "3 7\n",
            "4 1\n",
            "4 2\n",
            "4 3\n",
            "4 4\n",
            "4 5\n",
            "4 6\n",
            "4 7\n",
            "5 1\n",
            "5 2\n",
            "5 3\n",
            "5 4\n",
            "5 5\n",
            "5 6\n",
            "5 7\n",
            "6 1\n",
            "6 2\n",
            "6 3\n",
            "6 4\n",
            "6 5\n",
            "6 6\n",
            "6 7\n",
            "7 1\n",
            "7 2\n",
            "7 3\n",
            "7 4\n",
            "7 5\n",
            "7 6\n",
            "7 7\n"
          ],
          "name": "stdout"
        }
      ]
    },
    {
      "cell_type": "code",
      "metadata": {
        "id": "ikvrao52U6Pl",
        "colab_type": "code",
        "outputId": "3ab86b28-6af5-4955-ac84-5249f779e4c3",
        "colab": {
          "base_uri": "https://localhost:8080/",
          "height": 33
        }
      },
      "source": [
        "npar = 7*3\n",
        "npar"
      ],
      "execution_count": 0,
      "outputs": [
        {
          "output_type": "execute_result",
          "data": {
            "text/plain": [
              "21"
            ]
          },
          "metadata": {
            "tags": []
          },
          "execution_count": 89
        }
      ]
    },
    {
      "cell_type": "code",
      "metadata": {
        "id": "PjoiQ8ZcVF9u",
        "colab_type": "code",
        "outputId": "7b481b97-c430-4fd9-9638-4f9eb0146c2e",
        "colab": {
          "base_uri": "https://localhost:8080/",
          "height": 33
        }
      },
      "source": [
        "totn = 7*7\n",
        "totn"
      ],
      "execution_count": 0,
      "outputs": [
        {
          "output_type": "execute_result",
          "data": {
            "text/plain": [
              "49"
            ]
          },
          "metadata": {
            "tags": []
          },
          "execution_count": 90
        }
      ]
    },
    {
      "cell_type": "code",
      "metadata": {
        "id": "rudC4b7WVLt8",
        "colab_type": "code",
        "outputId": "5f1d9acd-dc18-43e0-f9e8-4646f6a36098",
        "colab": {
          "base_uri": "https://localhost:8080/",
          "height": 33
        }
      },
      "source": [
        "# a) \n",
        "probpar = npar/totn*100\n",
        "print(round(probpar,2),\"%\")"
      ],
      "execution_count": 0,
      "outputs": [
        {
          "output_type": "stream",
          "text": [
            "42.86 %\n"
          ],
          "name": "stdout"
        }
      ]
    },
    {
      "cell_type": "code",
      "metadata": {
        "id": "cp8lsd3i9_T5",
        "colab_type": "code",
        "outputId": "cd63dc01-07f7-4c10-e727-ddcece3f467e",
        "colab": {
          "base_uri": "https://localhost:8080/",
          "height": 33
        }
      },
      "source": [
        "resultado = 3/7*100\n",
        "resultado"
      ],
      "execution_count": 0,
      "outputs": [
        {
          "output_type": "execute_result",
          "data": {
            "text/plain": [
              "42.857142857142854"
            ]
          },
          "metadata": {
            "tags": []
          },
          "execution_count": 145
        }
      ]
    },
    {
      "cell_type": "code",
      "metadata": {
        "id": "AHBBb2HYVLsH",
        "colab_type": "code",
        "outputId": "f0a6979c-63b4-4bce-be13-9aed3ba34714",
        "colab": {
          "base_uri": "https://localhost:8080/",
          "height": 33
        }
      },
      "source": [
        "# b\n",
        "prob5 = 7/totn*100\n",
        "print(round(prob5,2),\"%\")"
      ],
      "execution_count": 0,
      "outputs": [
        {
          "output_type": "stream",
          "text": [
            "14.29 %\n"
          ],
          "name": "stdout"
        }
      ]
    },
    {
      "cell_type": "code",
      "metadata": {
        "id": "IEyz0oITVnd_",
        "colab_type": "code",
        "outputId": "883e8ce9-8aeb-480c-e2bf-094280ba8496",
        "colab": {
          "base_uri": "https://localhost:8080/",
          "height": 33
        }
      },
      "source": [
        "resultado = 1/7*100\n",
        "resultado"
      ],
      "execution_count": 0,
      "outputs": [
        {
          "output_type": "execute_result",
          "data": {
            "text/plain": [
              "14.285714285714285"
            ]
          },
          "metadata": {
            "tags": []
          },
          "execution_count": 146
        }
      ]
    },
    {
      "cell_type": "markdown",
      "metadata": {
        "id": "NinpPYWPTR12",
        "colab_type": "text"
      },
      "source": [
        "## **18** Joga‐se um dado honesto. O número que ocorreu isto é, da face voltada para cima é o coeficiente b da equação x² +b.x + 1=0.  Determine:  \n",
        "\n",
        "a) a probabilidade de essa equação ter raízes reais; \n",
        "\n",
        "b)   a   probabilidade   de   essa   equação   ter   raízes   reais,sabendo‐se que ocorreu um número ímpar. "
      ]
    },
    {
      "cell_type": "code",
      "metadata": {
        "id": "HeuPWicSZbRr",
        "colab_type": "code",
        "outputId": "0bc37433-0fdf-47b2-95a8-5484895d3f5f",
        "colab": {
          "base_uri": "https://localhost:8080/",
          "height": 33
        }
      },
      "source": [
        "# GeoGebra --> https://www.geogebra.org/graphing/bwubwmqw\n",
        "\n",
        "# Raizes reais com os numeros 2,3,4,5,6\n",
        "# Numeros impares 3,5\n",
        "\n",
        "# a)\n",
        "\n",
        "probr = 5/6\n",
        "probr"
      ],
      "execution_count": 0,
      "outputs": [
        {
          "output_type": "execute_result",
          "data": {
            "text/plain": [
              "0.8333333333333334"
            ]
          },
          "metadata": {
            "tags": []
          },
          "execution_count": 157
        }
      ]
    },
    {
      "cell_type": "code",
      "metadata": {
        "id": "sStjBrxR-hwn",
        "colab_type": "code",
        "outputId": "2a7b44b0-21ff-4215-c31f-8d213d7f3c78",
        "colab": {
          "base_uri": "https://localhost:8080/",
          "height": 33
        }
      },
      "source": [
        "probi = 2/3\n",
        "probi"
      ],
      "execution_count": 0,
      "outputs": [
        {
          "output_type": "execute_result",
          "data": {
            "text/plain": [
              "0.6666666666666666"
            ]
          },
          "metadata": {
            "tags": []
          },
          "execution_count": 158
        }
      ]
    },
    {
      "cell_type": "markdown",
      "metadata": {
        "id": "6UFN6dQpTYeU",
        "colab_type": "text"
      },
      "source": [
        "## **19** Os   bilhetes   de   uma   rifa   são   numerados   de   1a   100.   A   probabilidade   de   o   bilhete   sorteado   sermaior   que   40   ou número   par   é: "
      ]
    },
    {
      "cell_type": "code",
      "metadata": {
        "id": "qlNJPBd6faeQ",
        "colab_type": "code",
        "outputId": "1341da18-1065-4343-bfc6-2172fb87b6b3",
        "colab": {
          "base_uri": "https://localhost:8080/",
          "height": 33
        }
      },
      "source": [
        "contpar=0\n",
        "for i in range(1,41):\n",
        "  if i%2 == 0:\n",
        "    print(i, end=' ')\n",
        "    contpar +=1"
      ],
      "execution_count": 0,
      "outputs": [
        {
          "output_type": "stream",
          "text": [
            "2 4 6 8 10 12 14 16 18 20 22 24 26 28 30 32 34 36 38 40 "
          ],
          "name": "stdout"
        }
      ]
    },
    {
      "cell_type": "code",
      "metadata": {
        "id": "WocW_aUAg81-",
        "colab_type": "code",
        "outputId": "61b0d3e2-6479-44a7-b973-b5218821910e",
        "colab": {
          "base_uri": "https://localhost:8080/",
          "height": 33
        }
      },
      "source": [
        "print(contpar)"
      ],
      "execution_count": 0,
      "outputs": [
        {
          "output_type": "stream",
          "text": [
            "20\n"
          ],
          "name": "stdout"
        }
      ]
    },
    {
      "cell_type": "code",
      "metadata": {
        "id": "ZqZO-TxoiUMR",
        "colab_type": "code",
        "outputId": "cfa18f30-814d-4f24-f61c-7fe6045d9385",
        "colab": {
          "base_uri": "https://localhost:8080/",
          "height": 33
        }
      },
      "source": [
        "# A probabilidade de ser maior que 40 (60 numeros) ou par (20 numeros pares até 40)\n",
        "probn= (60+20)/100*100\n",
        "print(round(probn,2),\"%\")"
      ],
      "execution_count": 0,
      "outputs": [
        {
          "output_type": "stream",
          "text": [
            "80.0 %\n"
          ],
          "name": "stdout"
        }
      ]
    },
    {
      "cell_type": "markdown",
      "metadata": {
        "id": "35dhoh3GTZPR",
        "colab_type": "text"
      },
      "source": [
        "## **20** Resolver:\n",
        "\n",
        "a)   Estabeleça   as   condições   exigidas   para   se   aplicar   adistribuição binomial? \n",
        "\n",
        "b) Qual é a probabilidade de 3 caras em 5 lançamentos deuma moeda honesta? \n",
        "\n",
        "c) Qual é a probabilidade de menos que 3 caras em 5 lançamentos de uma moeda honesta? R → P(X < 3) =P(0) + P(1) + P(2)"
      ]
    },
    {
      "cell_type": "markdown",
      "metadata": {
        "id": "FCH69sEPxxXu",
        "colab_type": "text"
      },
      "source": [
        "**P(K)= Binomio(N/K) x p^(K) x q^(N-K) **\n",
        "\n",
        "Condicoes para distribuicao binomial\n",
        "\n",
        "P(S) = Probabilidade pelo sucesso desejado\n",
        "\n",
        "N = Jogadas\n",
        "\n",
        "K = Sucess desejado\n",
        "\n",
        "p = probabilidade de acertar um evento (ex. uma moeda tem 0,5 de probabilidade) \n",
        "\n",
        "q = ( 1 - p )"
      ]
    },
    {
      "cell_type": "code",
      "metadata": {
        "id": "l3ODrNCT96DI",
        "colab_type": "code",
        "outputId": "d76083c1-e1e0-43b9-ab4f-ea9d54ee6b91",
        "colab": {
          "base_uri": "https://localhost:8080/",
          "height": 33
        }
      },
      "source": [
        "# b)\n",
        "from math import factorial\n",
        "\n",
        "N = 5 \n",
        "K = 3\n",
        "p = 0.5\n",
        "q = (1-p)\n",
        "\n",
        "\n",
        "prob = (factorial(N) / (factorial(K)*factorial(N-K))) *(p**K)*(q**(N-K))\n",
        "print(round(prob*100,2),\"%\")\n",
        "\n"
      ],
      "execution_count": 0,
      "outputs": [
        {
          "output_type": "stream",
          "text": [
            "31.25 %\n"
          ],
          "name": "stdout"
        }
      ]
    },
    {
      "cell_type": "code",
      "metadata": {
        "id": "QjwK0XqF_f7V",
        "colab_type": "code",
        "outputId": "e1ce28b3-6551-42fa-cae4-ce41b720a856",
        "colab": {
          "base_uri": "https://localhost:8080/",
          "height": 33
        }
      },
      "source": [
        "# c) \n",
        "\n",
        "prob0 = (factorial(5) / (factorial(0)*factorial(5-0))) *(0.5**0)*(0.5**(5-0))\n",
        "prob1 = (factorial(5) / (factorial(1)*factorial(5-1))) *(0.5**1)*(0.5**(5-1))\n",
        "prob2 = (factorial(5) / (factorial(2)*factorial(5-2))) *(0.5**2)*(0.5**(5-2))\n",
        "\n",
        "probT = prob0+prob1+prob2\n",
        "\n",
        "print(round(probT*100,2),\"%\")"
      ],
      "execution_count": 0,
      "outputs": [
        {
          "output_type": "stream",
          "text": [
            "50.0 %\n"
          ],
          "name": "stdout"
        }
      ]
    },
    {
      "cell_type": "markdown",
      "metadata": {
        "id": "0PZSZ3PLTb3i",
        "colab_type": "text"
      },
      "source": [
        "## **21**  Suponha   que   a   probabilidade   dos   pais   terem   umfilho(a) com cabelos loiros seja ¼. Sabe-se que a famíliatem 6 crianças. Qual é a probabilidade de que metadedelas terem cabelos loiros?. "
      ]
    },
    {
      "cell_type": "code",
      "metadata": {
        "id": "OmzeOw9rA7ET",
        "colab_type": "code",
        "outputId": "2e24b1c4-21f2-49b1-c7b6-93b05df905e6",
        "colab": {
          "base_uri": "https://localhost:8080/",
          "height": 33
        }
      },
      "source": [
        "N = 6       # Quantidade\n",
        "K = 3       # Valor desejado\n",
        "p = 1/4     # Probabilidade de acerto\n",
        "q = (1-p)   # Probabilidade de erro\n",
        "\n",
        "\n",
        "prob = (factorial(N) / (factorial(K)*factorial(N-K))) *(p**K)*(q**(N-K))\n",
        "print(round(prob*100,2),\"%\")"
      ],
      "execution_count": 0,
      "outputs": [
        {
          "output_type": "stream",
          "text": [
            "13.18 %\n"
          ],
          "name": "stdout"
        }
      ]
    },
    {
      "cell_type": "markdown",
      "metadata": {
        "id": "hY7M5kBQTjon",
        "colab_type": "text"
      },
      "source": [
        "## **22**  Se   a   probabilidade   de   atingir  um   alvo  num   únicodisparo é 0,3, qual é a probabilidade de que em 4 disparoso alvo seja atingido no mínimo 3 vezes? "
      ]
    },
    {
      "cell_type": "code",
      "metadata": {
        "id": "ttzpQy7TDBFE",
        "colab_type": "code",
        "outputId": "2da4dd9d-dcd3-4507-d5b8-7fad5675d8f3",
        "colab": {
          "base_uri": "https://localhost:8080/",
          "height": 50
        }
      },
      "source": [
        "N = 4       # Quantidade\n",
        "K = 3       # Valor desejado\n",
        "p = 0.3     # Probabilidade de acerto\n",
        "q = (1-p)   # Probabilidade de erro\n",
        "\n",
        "\n",
        "prob = (factorial(N) / (factorial(K)*factorial(N-K))) *(p**K)*(q**(N-K))\n",
        "print(prob)\n",
        "print(round(prob*100,2),\"%\")"
      ],
      "execution_count": 0,
      "outputs": [
        {
          "output_type": "stream",
          "text": [
            "0.07559999999999999\n",
            "7.56 %\n"
          ],
          "name": "stdout"
        }
      ]
    },
    {
      "cell_type": "markdown",
      "metadata": {
        "id": "XgdNEWElTlZ5",
        "colab_type": "text"
      },
      "source": [
        "## **23**  Um inspetor de qualidade extrai uma amostra de 10tubos aleatoriamente de uma carga muito grande de tubosque se sabe que contém 20% de tubos defeituosos. Qual éa probabilidade de que não mais do que 2 dos tubosextraídos sejam defeituosos?"
      ]
    },
    {
      "cell_type": "code",
      "metadata": {
        "id": "Ht_fIGNzDvaZ",
        "colab_type": "code",
        "outputId": "5cbbae54-b9c6-4903-8154-f4c540c38517",
        "colab": {
          "base_uri": "https://localhost:8080/",
          "height": 33
        }
      },
      "source": [
        "N = 10       # Quantidade\n",
        "K0 = 0      # Valor desejado\n",
        "K1 = 1       # Valor desejado\n",
        "K2 = 2       # Valor desejado\n",
        "p = 0.2     # Probabilidade de acerto\n",
        "q = (1-p)   # Probabilidade de erro\n",
        "\n",
        "\n",
        "prob0 = (factorial(N) / (factorial(K0)*factorial(N-K0))) *(p**K0)*(q**(N-K0))\n",
        "prob1 = (factorial(N) / (factorial(K1)*factorial(N-K1))) *(p**K1)*(q**(N-K1))\n",
        "prob2 = (factorial(N) / (factorial(K2)*factorial(N-K2))) *(p**K2)*(q**(N-K2))\n",
        "\n",
        "\n",
        "probT = prob0+prob1+prob2\n",
        "\n",
        "print(round(probT*100,2),\"%\")"
      ],
      "execution_count": 0,
      "outputs": [
        {
          "output_type": "stream",
          "text": [
            "67.78 %\n"
          ],
          "name": "stdout"
        }
      ]
    },
    {
      "cell_type": "markdown",
      "metadata": {
        "id": "50Vm1LEBTnVx",
        "colab_type": "text"
      },
      "source": [
        "## **24** Um engenheiro de inspeção extrai uma amostra de 15itens aleatoriamente de um processo de fabricação sabidoproduzir 85% de itens aceitáveis. Qual a probabilidade deque 10 dos itens extraídos sejam aceitáveis? "
      ]
    },
    {
      "cell_type": "code",
      "metadata": {
        "id": "JQr3oQhxE2dH",
        "colab_type": "code",
        "outputId": "8bd47cdc-cf00-4eb7-839f-59ac80c9d784",
        "colab": {
          "base_uri": "https://localhost:8080/",
          "height": 33
        }
      },
      "source": [
        "N = 15       # Quantidade\n",
        "K = 10       # Valor desejado\n",
        "p = 0.85     # Probabilidade de acerto\n",
        "q = (1-p)   # Probabilidade de erro\n",
        "\n",
        "\n",
        "prob = (factorial(N) / (factorial(K)*factorial(N-K))) *(p**K)*(q**(N-K))\n",
        "print(round(prob*100,2),\"%\")"
      ],
      "execution_count": 0,
      "outputs": [
        {
          "output_type": "stream",
          "text": [
            "4.49 %\n"
          ],
          "name": "stdout"
        }
      ]
    },
    {
      "cell_type": "markdown",
      "metadata": {
        "id": "Edes_0uhTpYC",
        "colab_type": "text"
      },
      "source": [
        "## **25**  O Corpo de Bombeiros de uma determinada cidaderecebe,   em   média,   3   chamadas   por   dia.   Qual   aprobabilidade de receber: \n",
        "\n",
        "a) Quatro chamadas em um dia \n",
        "\n",
        "b) Nenhuma   chamada   em   um   dia \n",
        "\n",
        "c)    20   chamadas   em   uma   semana."
      ]
    },
    {
      "cell_type": "code",
      "metadata": {
        "id": "LEWH-mavKn7E",
        "colab_type": "code",
        "outputId": "f86339fa-e693-4f8a-e0b4-be6dfd0fde06",
        "colab": {
          "base_uri": "https://localhost:8080/",
          "height": 33
        }
      },
      "source": [
        "# DISTRIBUICAO DE POISSON\n",
        "from math import factorial\n",
        "\n",
        "# a)\n",
        "\n",
        "e = 2.71828\n",
        "Lam = 3    # Lambida ou Taxa de ocorrencia\n",
        "K= 4        # Valor desejado\n",
        "\n",
        "probX = ((e**-Lam)*(Lam**K))/factorial(K)\n",
        "print(round(probX*100,2),\"%\")"
      ],
      "execution_count": 0,
      "outputs": [
        {
          "output_type": "stream",
          "text": [
            "16.8 %\n"
          ],
          "name": "stdout"
        }
      ]
    },
    {
      "cell_type": "code",
      "metadata": {
        "id": "hQxIKkzXQyyG",
        "colab_type": "code",
        "outputId": "841d3f02-263d-4720-9f43-de48f868a116",
        "colab": {
          "base_uri": "https://localhost:8080/",
          "height": 33
        }
      },
      "source": [
        "# b)\n",
        "\n",
        "e = 2.71828\n",
        "Lam = 3    # Lambida ou Taxa de ocorrencia\n",
        "K= 0        # Valor desejado\n",
        "\n",
        "probX = ((e**-Lam)*(Lam**K))/factorial(K)\n",
        "print(round(probX*100,2),\"%\")"
      ],
      "execution_count": 0,
      "outputs": [
        {
          "output_type": "stream",
          "text": [
            "4.98 %\n"
          ],
          "name": "stdout"
        }
      ]
    },
    {
      "cell_type": "code",
      "metadata": {
        "id": "MMsFrP3mQ2Yj",
        "colab_type": "code",
        "outputId": "4da075b0-d238-4701-9e00-651f70be0e15",
        "colab": {
          "base_uri": "https://localhost:8080/",
          "height": 33
        }
      },
      "source": [
        "# c)\n",
        "\n",
        "e = 2.71828\n",
        "Lam = 21    # Lambida ou Taxa de ocorrencia\n",
        "K= 20        # Valor desejado\n",
        "\n",
        "probX = ((e**-Lam)*(Lam**K))/factorial(K)\n",
        "print(round(probX*100,2),\"%\")"
      ],
      "execution_count": 0,
      "outputs": [
        {
          "output_type": "stream",
          "text": [
            "8.67 %\n"
          ],
          "name": "stdout"
        }
      ]
    },
    {
      "cell_type": "markdown",
      "metadata": {
        "id": "L3wSVDoZUJwD",
        "colab_type": "text"
      },
      "source": [
        "## **26** Uma central telefônica tipo PABX recebe uma médiade 5 chamadas por minuto. Qual a probabilidade destePABX   não   receber   nenhuma   chamada   durante   umintervalo de 1 minuto?"
      ]
    },
    {
      "cell_type": "code",
      "metadata": {
        "id": "v2lu9o28R0Mn",
        "colab_type": "code",
        "outputId": "4f005add-d4f1-473a-a750-d6cc794aaad0",
        "colab": {
          "base_uri": "https://localhost:8080/",
          "height": 33
        }
      },
      "source": [
        "e = 2.71828\n",
        "Lam = 5    # Lambida ou Taxa de ocorrencia\n",
        "K= 0       # Valor desejado\n",
        "\n",
        "probX = ((e**-Lam)*(Lam**K))/factorial(K)\n",
        "print(round(probX*100,2),\"%\")"
      ],
      "execution_count": 0,
      "outputs": [
        {
          "output_type": "stream",
          "text": [
            "0.67 %\n"
          ],
          "name": "stdout"
        }
      ]
    }
  ]
}