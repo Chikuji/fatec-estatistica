{
  "nbformat": 4,
  "nbformat_minor": 0,
  "metadata": {
    "colab": {
      "name": "Estatística - 09/06/2020",
      "provenance": [],
      "authorship_tag": "ABX9TyPDYP1GApZYlEPgfVM+BX7N",
      "include_colab_link": true
    },
    "kernelspec": {
      "name": "python3",
      "display_name": "Python 3"
    }
  },
  "cells": [
    {
      "cell_type": "markdown",
      "metadata": {
        "id": "view-in-github",
        "colab_type": "text"
      },
      "source": [
        "<a href=\"https://colab.research.google.com/github/Chikuji/fatec-estatistica/blob/master/Estat%C3%ADstica_09_06_2020.ipynb\" target=\"_parent\"><img src=\"https://colab.research.google.com/assets/colab-badge.svg\" alt=\"Open In Colab\"/></a>"
      ]
    },
    {
      "cell_type": "markdown",
      "metadata": {
        "id": "_IhY6GZgP54Y",
        "colab_type": "text"
      },
      "source": [
        "![alt text](https://image.slidesharecdn.com/trabalhodecp-apresentao1-140117205425-phpapp01/95/probabilidade-profdr-nilo-sampaio-21-638.jpg?cb=1389992109)\n",
        "\n",
        "---\n",
        "\n",
        "\n",
        "\n",
        "---\n",
        "\n"
      ]
    },
    {
      "cell_type": "code",
      "metadata": {
        "id": "gkYDO5FaNskj",
        "colab_type": "code",
        "outputId": "c386707a-a88b-4f01-b39d-db6ab9cb4e69",
        "colab": {
          "base_uri": "https://localhost:8080/",
          "height": 86
        }
      },
      "source": [
        "# AO LANÇAR UMA MOEDA 8 VEZES QUAL A PROBABILIDADE DE DAR PAR 5 VEZES\n",
        "\n",
        "from math import factorial\n",
        "\n",
        "N = 8   # LANÇOU A MOEDA 8 VEZES\n",
        "X = 5   # SUCESSO EM DAR 5 VEZES\n",
        "p = 1/2 # SUCESSO, PROBABILIDADE DE DAR UM LADO DA MOEDA\n",
        "q = (1-p) # FRACASSO, 1 MENOS A PROBABILIDADE DE SUCESSO\n",
        "\n",
        "\n",
        "combinacoes = (factorial(N) / (factorial(X)*factorial(N-X)))\n",
        "print(\"combinacoes =\", combinacoes)\n",
        "sucesso =  (p**X)\n",
        "print(\"sucesso =\", sucesso)\n",
        "fracasso = (q**(N-X))\n",
        "print(\"fracasso =\", fracasso)\n",
        "\n",
        "\n",
        "prob = combinacoes *(p**X)*(q**(N-X))\n",
        "print(round(prob*100,2),\"%\" )"
      ],
      "execution_count": 0,
      "outputs": [
        {
          "output_type": "stream",
          "text": [
            "combinacoes = 56.0\n",
            "sucesso = 0.03125\n",
            "fracasso = 0.125\n",
            "21.88 %\n"
          ],
          "name": "stdout"
        }
      ]
    },
    {
      "cell_type": "code",
      "metadata": {
        "id": "f8bU8bXqUkOO",
        "colab_type": "code",
        "outputId": "118a3536-29c6-4066-9b1d-06af0a46e5d7",
        "colab": {
          "base_uri": "https://localhost:8080/",
          "height": 34
        }
      },
      "source": [
        "# QUAL A PROBABILIDADE DE ACONTECER PELO MENOS UMA CARA \n",
        "\n",
        "from math import factorial\n",
        "\n",
        "N = 8   # LANÇOU A MOEDA 8 VEZES\n",
        "X = 1   # SUCESSO EM DAR 1 VEZ\n",
        "p = 1/2 # SUCESSO, PROBABILIDADE DE DAR UM LADO DA MOEDA\n",
        "q = (1-p) # FRACASSO, 1 MENOS A PROBABILIDADE DE SUCESSO\n",
        "prob=0\n",
        "\n",
        "\n",
        "for X in range(8):\n",
        "  prob+=(factorial(N) / (factorial(X)*factorial(N-X))) *(p**X)*(q**(N-X))\n",
        "\n",
        "\n",
        "print(round(prob,3),\"%\" )"
      ],
      "execution_count": 0,
      "outputs": [
        {
          "output_type": "stream",
          "text": [
            "0.996 %\n"
          ],
          "name": "stdout"
        }
      ]
    },
    {
      "cell_type": "code",
      "metadata": {
        "id": "1U4lHjV-XUnU",
        "colab_type": "code",
        "outputId": "1ff97685-6374-4727-db74-26a93d8632d5",
        "colab": {
          "base_uri": "https://localhost:8080/",
          "height": 86
        }
      },
      "source": [
        "from math import factorial\n",
        "\n",
        "N = 8   # LANÇOU A MOEDA 8 VEZES\n",
        "X = 0  # X>=1 .SUCESSO DE DAR NO MINIMO 1 SIGNIFICA SOMAR(X=1,2,3,4,5,6,7,8) OU 1 MENOS O FRACASSO DE DAR 0\n",
        "p = 1/2 # PROBABILIDADE DE DAR UM LADO DA MOEDA\n",
        "q = (1-p) # FRACASSO, 1 MENOS A PROBABILIDADE DE SUCESSO\n",
        "\n",
        "\n",
        "combinacoes = (factorial(N) / (factorial(X)*factorial(N-X)))\n",
        "print(\"combinacoes =\", combinacoes)\n",
        "sucesso =  (p**X)\n",
        "print(\"sucesso =\", sucesso)\n",
        "fracasso = (q**(N-X))\n",
        "print(\"fracasso =\", fracasso)\n",
        "\n",
        "\n",
        "prob = combinacoes *(p**X)*(q**(N-X))\n",
        "print(1-(round(prob,3)),\"%\" )"
      ],
      "execution_count": 0,
      "outputs": [
        {
          "output_type": "stream",
          "text": [
            "combinacoes = 1.0\n",
            "sucesso = 1.0\n",
            "fracasso = 0.00390625\n",
            "0.996 %\n"
          ],
          "name": "stdout"
        }
      ]
    },
    {
      "cell_type": "code",
      "metadata": {
        "id": "mKF_vW29ZGZo",
        "colab_type": "code",
        "outputId": "0087a836-f70e-4855-8237-0a6cbf42913b",
        "colab": {
          "base_uri": "https://localhost:8080/",
          "height": 138
        }
      },
      "source": [
        "# QUAL A PROBABILIDADE DE ACONTECER NO MAXIMO 2\n",
        "\n",
        "from math import factorial\n",
        "\n",
        "N = 8   # LANÇOU A MOEDA 8 VEZES\n",
        "X = 2   # x<=2 SOMA X = 0,1,2\n",
        "p = 1/2 # PROBABILIDADE DE DAR UM LADO DA MOEDA\n",
        "q = (1-p) # FRACASSO, 1 MENOS A PROBABILIDADE DE SUCESSO\n",
        "prob=0\n",
        "i=0\n",
        "\n",
        "for i in range(X+1):\n",
        "  combinacoes = (factorial(N) / (factorial(i)*factorial(N-i)))\n",
        "  print(\"x=\",i)\n",
        "  prob+= combinacoes*(p**i)*(q**(N-i))\n",
        "  print(\"combinacoes=\",combinacoes)\n",
        "\n",
        "\n",
        "print(round(prob*100,2),\"%\" )"
      ],
      "execution_count": 0,
      "outputs": [
        {
          "output_type": "stream",
          "text": [
            "x= 0\n",
            "combinacoes= 1.0\n",
            "x= 1\n",
            "combinacoes= 8.0\n",
            "x= 2\n",
            "combinacoes= 28.0\n",
            "14.45 %\n"
          ],
          "name": "stdout"
        }
      ]
    },
    {
      "cell_type": "markdown",
      "metadata": {
        "id": "CfToAKXIgAaN",
        "colab_type": "text"
      },
      "source": [
        "![alt text](https://miro.medium.com/max/1048/1*OC883Nd6SHyAbRDFv64J0Q.png)"
      ]
    },
    {
      "cell_type": "code",
      "metadata": {
        "id": "v_XrxPLTdcfC",
        "colab_type": "code",
        "outputId": "ad7d32b6-1ede-45ae-a55f-2eff090e5ba6",
        "colab": {
          "base_uri": "https://localhost:8080/",
          "height": 173
        }
      },
      "source": [
        "# DISTRIBUICAO DE POISSON\n",
        "# uma central atende 2 chamadas por hora. qual a probabilidade de receber no max 3 em 2 horas.\n",
        "\n",
        "from math import factorial\n",
        "\n",
        "e = 2.7182\n",
        "Lam = 2   # Lambida ou Taxa de ocorrencia\n",
        "k=[0,1,2,3]      # Valor desejado\n",
        "t=2       # por hora\n",
        "probX=0\n",
        "probXT=0\n",
        "\n",
        "for i in range(len(k)):\n",
        "  print(\"k=\",i)\n",
        "\n",
        "  probX = ((e**-(Lam*t))*((Lam*t)**i))/factorial(i)\n",
        "  probXT +=probX\n",
        "  print(round(probX*100,2),\"%\")\n",
        "\n",
        "print(\"Soma total=\",round(probXT*100,2),\"%\")"
      ],
      "execution_count": 0,
      "outputs": [
        {
          "output_type": "stream",
          "text": [
            "k= 0\n",
            "1.83 %\n",
            "k= 1\n",
            "7.33 %\n",
            "k= 2\n",
            "14.65 %\n",
            "k= 3\n",
            "19.54 %\n",
            "Soma total= 43.35 %\n"
          ],
          "name": "stdout"
        }
      ]
    },
    {
      "cell_type": "code",
      "metadata": {
        "id": "y49tzTttdcIl",
        "colab_type": "code",
        "outputId": "75e2e8ff-c33b-4833-abc4-81d153299d70",
        "colab": {
          "base_uri": "https://localhost:8080/",
          "height": 69
        }
      },
      "source": [
        "#  probabilidade de nenhuma chamada em 90 min ou 1 hora e meia\n",
        "\n",
        "from math import factorial\n",
        "\n",
        "e = 2.7182\n",
        "t0= 1      # tempo\n",
        "\n",
        "med=Lam*t0 # Formula da média\n",
        "\n",
        "med = 2\n",
        "Lam = t0/med\n",
        "\n",
        "k=[0]      # Valor desejado\n",
        "t=1.5\n",
        "probX=0\n",
        "probXT=0\n",
        "\n",
        "for i in range(len(k)):\n",
        "  print(\"k=\",i)\n",
        "\n",
        "  probX = ((e**-(Lam*t))*((Lam*t)**i))/factorial(i)\n",
        "  probXT +=probX\n",
        "  print(round(probX*100,2),\"%\")\n",
        "\n",
        "print(\"Resultado=\",round(probXT*100,2),\"%\")"
      ],
      "execution_count": 0,
      "outputs": [
        {
          "output_type": "stream",
          "text": [
            "k= 0\n",
            "47.24 %\n",
            "Resultado= 47.24 %\n"
          ],
          "name": "stdout"
        }
      ]
    },
    {
      "cell_type": "code",
      "metadata": {
        "id": "sYmVieFE0JNy",
        "colab_type": "code",
        "outputId": "588a3199-5ac2-44e3-8c71-1e4195c75d8c",
        "colab": {
          "base_uri": "https://localhost:8080/",
          "height": 69
        }
      },
      "source": [
        "# EM UMA FÁBRICA DE PNEUS VERIFICOU QUE AO TESTAR SEUS PNEUS HAVIA EM MEDIA\n",
        "# 1 ESTOURO A CADA 5000 KM. ENCONTRE:\n",
        "\n",
        "#  Probabilidade que em um teste de 3000km haja no máximo 1 pneu estourado\n",
        "\n",
        "from math import factorial\n",
        "\n",
        "e = 2.7182\n",
        "t0= 5000      # tempo ou espaço\n",
        "\n",
        "med=Lam*t0 # Formula da média\n",
        "\n",
        "med = 1\n",
        "Lam = t0/med\n",
        "\n",
        "k=[1]      # Valor desejado\n",
        "t=3000\n",
        "probX=0\n",
        "probXT=0\n",
        "\n",
        "for i in range(len(k)):\n",
        "  print(\"k=\",i)\n",
        "\n",
        "  probX = ((e**-(Lam*t))*((Lam*t)**i))/factorial(i)\n",
        "  probXT +=probX\n",
        "  print(probX*100,\"%\")\n",
        "\n",
        "print(\"Resultado=\",round(probXT*100,10),\"%\")"
      ],
      "execution_count": 0,
      "outputs": [
        {
          "output_type": "stream",
          "text": [
            "k= 0\n",
            "0.0 %\n",
            "Resultado= 0.0 %\n"
          ],
          "name": "stdout"
        }
      ]
    },
    {
      "cell_type": "code",
      "metadata": {
        "id": "lOSk6QUY0bxn",
        "colab_type": "code",
        "outputId": "a61a68f3-6319-4b29-a8b1-34d87ff61a59",
        "colab": {
          "base_uri": "https://localhost:8080/",
          "height": 69
        }
      },
      "source": [
        "#  Probabilidade de que um carro ande 8000km sem estourar o pneu.\n",
        "\n",
        "from math import factorial\n",
        "e = 2.7182\n",
        "t0= 5000      # tempo ou espaço\n",
        "\n",
        "med=Lam*t0 # Formula da média\n",
        "\n",
        "med = 1\n",
        "Lam = t0/med\n",
        "\n",
        "k=[1]      # Valor desejado\n",
        "t=8000\n",
        "probX=0\n",
        "probXT=0\n",
        "\n",
        "for i in range(len(k)):\n",
        "  print(\"k=\",i)\n",
        "\n",
        "  probX = ((e**-(Lam*t))*((Lam*t)**i))/factorial(i)\n",
        "  probXT +=probX\n",
        "  print(probX*100,\"%\")\n",
        "\n",
        "print(\"Resultado=\",round(probXT*100,10),\"%\")"
      ],
      "execution_count": 0,
      "outputs": [
        {
          "output_type": "stream",
          "text": [
            "k= 0\n",
            "0.0 %\n",
            "Resultado= 0.0 %\n"
          ],
          "name": "stdout"
        }
      ]
    }
  ]
}